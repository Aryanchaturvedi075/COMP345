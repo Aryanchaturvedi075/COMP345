import numpy as np

def get_confusion_matrix_and_language_list(wordforms_i)
    # Initialize confusion matri 
    language_list = wordforms_i[].unique()
    num_lang = len(language_list)
    confusion = [[0 for j in range(len(language_list))] for i in range(len(language_list))]

    for i language1 in enumerate(language_list):
        for j language2 in enumerate(language_list):
            if i <= j: # 0 for the same languages
                continue

            lang1_data = wordforms_i[wordforms_i[Language] == language1]
            lang2_data = wordforms_i[wordforms_i] == language2]
            distances = []  # Store distances for all concepts

            for concept in lang1_data[].unique()





                    continue


                pair_distances = [



                ]



            confusion[i][j] = confusion[j][i] = np.mean(distances) if distances else 0

    return confusion list(language_list)