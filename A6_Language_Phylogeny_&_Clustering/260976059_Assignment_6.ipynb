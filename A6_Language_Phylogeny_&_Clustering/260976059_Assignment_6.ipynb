{
  "cells": [
    {
      "cell_type": "markdown",
      "metadata": {
        "colab_type": "text",
        "id": "view-in-github"
      },
      "source": [
        "<a href=\"https://colab.research.google.com/github/Aryanchaturvedi075/COMP345/blob/main/A6_Language_Phylogeny_&_Clustering/260976059_Assignment_6.ipynb\" target=\"_parent\"><img src=\"https://colab.research.google.com/assets/colab-badge.svg\" alt=\"Open In Colab\"/></a>"
      ]
    },
    {
      "cell_type": "markdown",
      "metadata": {
        "id": "twQqXe7yn1aD"
      },
      "source": [
        "**NL2DS - Winter 2025**\n",
        "\n",
        "# Assignment 6 -- Language Phylogeny, Clustering\n",
        "\n",
        "Name: **Aryan Chaturvedi**\n",
        "\n",
        "Student ID: **260976059**"
      ]
    },
    {
      "cell_type": "markdown",
      "metadata": {},
      "source": [
        "## Instructions"
      ]
    },
    {
      "cell_type": "markdown",
      "metadata": {
        "id": "7E8heQjIoHqL"
      },
      "source": [
        "This homework consists of 71 points, plus 4 points of extra credit.\n",
        "\n",
        "\n",
        "There are two types of exercise:\n",
        "\n",
        "* Some questions require writing code.  \n",
        "  * Replace `# your code here` with your answer.  \n",
        "  * The code block should run when all code above it in this file has also been run.  \n",
        "  * If you skip some questions, it's your responsibility to make sure that all code blocks which you filled out still run.\n",
        "* Some other questions require writing text.  \n",
        "  * Replace \"**put your answer here**\" with your answer.\n",
        "\n",
        "For coding questions:\n",
        "* <font color='red'>**You may find code from the course CoLab notebooks -- and in particular the `Clustering` notebook (MyCourses->Content->Code Workbooks->Clustering) -- useful for this assignment.**</font>  \n",
        "  * <font color='red'>**Do not reimplement any major functionality, such as calculating edit distance, linkage methods, clustering methods, etc.**</font>\n",
        "* Following the contents of these CoLab notebooks, you should:\n",
        "  * Use `sklearn` functionality as much as possible for machine learning tools. (For example, do not compute clusters using a different library.)\n",
        "  * Use `pandas` functionalty as much as possible for basic data manipulation and analysis.\n",
        "* Do not delete any code, unless it is marked as `# some code to get you started`.\n",
        "\n",
        "Please make sure to follow directions carefully, including maximum lengths for text answers. Failure to follow directions may result in partial or no credit for the corresponding question.\n",
        "\n",
        "**IMPORTANT: Make sure to correctly follow the instructions at the bottom on submitting your assignment, <font color='red'>INCLUDING MATCHING YOUR ANSWERS TO PDF PAGES WHEN SUBMITTING ON GRADESCOPE</font>. Failure to do so will result in <font color='red'>UP TO 10 POINTS BEING DEDUCTED</font>.**\n"
      ]
    },
    {
      "cell_type": "markdown",
      "metadata": {
        "id": "aNeTggCnm61l"
      },
      "source": [
        "# Section 1"
      ]
    },
    {
      "cell_type": "markdown",
      "metadata": {},
      "source": [
        "In Sections 1-6 of the assignment we will look at some cross-linguistic word form data and use some of the tools we saw in class to build family trees of languages based on the sound forms of words---otherwise known as \"optimal phylogenies.\"\n",
        "\n",
        "We will use data from the following paper.\n",
        "\n",
        "\n",
        "[Dellert, Johannes, Daneyko, T., Muench, A., Ladygina, A., Buch, A., Clarius, N., Grigorjew, I., Balabel, M., Boga, H. I., Baysarova, Z., Muehlenbernd, R., Wahle, J., and Jaeger, G. (2020). Northeuralex: A wide-coverage lexical database of northern eurasia. Language Resources & Evaluation, 54(273–301).](https://drive.google.com/file/d/1ptoMNctdJs99wPWfBUGbw4_X60NtKl9B/view?usp=sharing)\n",
        "\n",
        "This data  can be found [here](http://northeuralex.org/) as well.\n",
        "\n",
        "Copy the data to your drive folder from: [here](https://drive.google.com/file/d/1Mfa8XayBFJb0fY8wfinODw90yuRal8AD/view?usp=sharing), [here](https://drive.google.com/file/d/1AQqkscWKlq3quw-BWjB8xqSQzm7-uDtt/view?usp=sharing), and [here](https://drive.google.com/file/d/1R7ZLEzDW9QKUen3BjItPsySaUPCpu7xk/view?usp=sharing)."
      ]
    },
    {
      "cell_type": "markdown",
      "metadata": {},
      "source": [
        "## Mounting Files"
      ]
    },
    {
      "cell_type": "code",
      "execution_count": 3,
      "metadata": {},
      "outputs": [
        {
          "name": "stdout",
          "output_type": "stream",
          "text": [
            "Running in local environment\n"
          ]
        }
      ],
      "source": [
        "northeuralex_path = 'a6_data/northeuralex.csv'\n",
        "languages_path = 'a6_data/northeuralex-languages.csv'\n",
        "concepts_path = 'a6_data/northeuralex-concepts.csv'\n",
        "\n",
        "try:\n",
        "    from google.colab import drive\n",
        "    drive.mount('/content/drive/')\n",
        "    !ls \"/content/drive/My Drive/NaturalLanguageProcessing/a6_data/\"\n",
        "    northeuralex_path = \"/content/drive/My Drive/NaturalLanguageProcessing/a6_data/northeuralex.csv\"\n",
        "    languages_path = \"/content/drive/My Drive/NaturalLanguageProcessing/a6_data/northeuralex-languages.csv\"\n",
        "    concepts_path = \"/content/drive/My Drive/NaturalLanguageProcessing/a6_data/northeuralex-concepts.csv\"\n",
        "except ModuleNotFoundError:\n",
        "    print(\"Running in local environment\")"
      ]
    },
    {
      "cell_type": "markdown",
      "metadata": {
        "id": "o23S1atehGDM"
      },
      "source": [
        "## Question 1 (3 points)"
      ]
    },
    {
      "cell_type": "markdown",
      "metadata": {
        "id": "1B3OQyn4zZRo"
      },
      "source": [
        "Read the paper and/or Northeuralex's website as much as necessary to answer this question.\n",
        "\n",
        "**Question:** What is the Northeuralex dataset? Give a brief overview, including:\n",
        "* What kind of data is it?\n",
        "* What is the purpose of this data (what sorts of scientific questions or practical applications will it be used to address)?\n",
        "* How was it constructed?\n",
        "\n",
        " Your answer should not refer to low-level details, such as file names or what columns are present in different files.  Just give an overview of no more than one paragraph that gives the gist for someone unfamiliar with the dataset.\n",
        "\n",
        "**A1: put your answer here (maximum length 3-5 sentences)**"
      ]
    },
    {
      "cell_type": "markdown",
      "metadata": {
        "id": "GPslCq3HhJBm"
      },
      "source": [
        "## Question 2 (3 points)"
      ]
    },
    {
      "cell_type": "markdown",
      "metadata": {
        "id": "_lulwM8kooi6"
      },
      "source": [
        "Now, let's read in the wordforms in this dataset."
      ]
    },
    {
      "cell_type": "code",
      "execution_count": 4,
      "metadata": {
        "colab": {
          "base_uri": "https://localhost:8080/",
          "height": 442
        },
        "id": "wfVlyC-buz1i",
        "outputId": "0e421a80-b319-4dc4-f419-9be276ef876c"
      },
      "outputs": [
        {
          "data": {
            "application/vnd.microsoft.datawrangler.viewer.v0+json": {
              "columns": [
                {
                  "name": "index",
                  "rawType": "int64",
                  "type": "integer"
                },
                {
                  "name": "Language_ID",
                  "rawType": "object",
                  "type": "string"
                },
                {
                  "name": "Glottocode",
                  "rawType": "object",
                  "type": "string"
                },
                {
                  "name": "Concept_ID",
                  "rawType": "object",
                  "type": "string"
                },
                {
                  "name": "Word_Form",
                  "rawType": "object",
                  "type": "unknown"
                },
                {
                  "name": "rawIPA",
                  "rawType": "object",
                  "type": "unknown"
                },
                {
                  "name": "IPA",
                  "rawType": "object",
                  "type": "unknown"
                },
                {
                  "name": "ASJP",
                  "rawType": "object",
                  "type": "unknown"
                },
                {
                  "name": "List",
                  "rawType": "object",
                  "type": "unknown"
                },
                {
                  "name": "Dolgo",
                  "rawType": "object",
                  "type": "unknown"
                },
                {
                  "name": "Next_Step",
                  "rawType": "object",
                  "type": "string"
                }
              ],
              "conversionMethod": "pd.DataFrame",
              "ref": "c86323e6-7397-47b4-b77d-fcf69b4750d3",
              "rows": [
                [
                  "0",
                  "fin",
                  "finn1318",
                  "Auge::N",
                  "silmä",
                  "silmæ",
                  "s i l m æ",
                  "silmE",
                  "SILME",
                  "SVRMV",
                  "validate"
                ],
                [
                  "1",
                  "fin",
                  "finn1318",
                  "Ohr::N",
                  "korva",
                  "kɔrʋɑ",
                  "k ɔ r ʋ ɑ",
                  "korwa",
                  "KURWA",
                  "KVRWV",
                  "validate"
                ],
                [
                  "2",
                  "fin",
                  "finn1318",
                  "Nase::N",
                  "nenä",
                  "nɛnæ",
                  "n ɛ n æ",
                  "nEnE",
                  "NENE",
                  "NVNV",
                  "validate"
                ],
                [
                  "3",
                  "fin",
                  "finn1318",
                  "Mund::N",
                  "suu",
                  "suː",
                  "s u u",
                  "su",
                  "SY",
                  "SV",
                  "validate"
                ],
                [
                  "4",
                  "fin",
                  "finn1318",
                  "Zahn::N",
                  "hammas",
                  "hɑmːɑs",
                  "h ɑ m m ɑ s",
                  "hamas",
                  "HAMAS",
                  "HVMVS",
                  "validate"
                ],
                [
                  "5",
                  "fin",
                  "finn1318",
                  "Zunge::N",
                  "kieli",
                  "kiɛ̯li",
                  "k i ɛ l i",
                  "kiEli",
                  "KIELI",
                  "KVRV",
                  "validate"
                ],
                [
                  "6",
                  "fin",
                  "finn1318",
                  "Lippe::N",
                  "huuli",
                  "huːli",
                  "h u u l i",
                  "huli",
                  "HYLI",
                  "HVRV",
                  "validate"
                ],
                [
                  "7",
                  "fin",
                  "finn1318",
                  "Wange::N",
                  "poski",
                  "pɔski",
                  "p ɔ s k i",
                  "poski",
                  "PUSKI",
                  "PVSKV",
                  "validate"
                ],
                [
                  "8",
                  "fin",
                  "finn1318",
                  "Gesicht::N",
                  "naama",
                  "nɑːmɑ",
                  "n ɑ ɑ m ɑ",
                  "nama",
                  "NAMA",
                  "NVMV",
                  "validate"
                ],
                [
                  "9",
                  "fin",
                  "finn1318",
                  "Gesicht::N",
                  "kasvot",
                  "kɑsʋɔt",
                  "k ɑ s ʋ ɔ t",
                  "kaswot",
                  "KASWUT",
                  "KVSWVT",
                  "validate"
                ],
                [
                  "10",
                  "fin",
                  "finn1318",
                  "Stirn::N",
                  "otsa",
                  "ɔt͡sɑ",
                  "ɔ t͡s ɑ",
                  "oca",
                  "UCA",
                  "VKV",
                  "validate"
                ],
                [
                  "11",
                  "fin",
                  "finn1318",
                  "Haar::N",
                  "hius",
                  "hiu̯s",
                  "h i u s",
                  "hius",
                  "HIYS",
                  "HVS",
                  "validate"
                ],
                [
                  "12",
                  "fin",
                  "finn1318",
                  "Haar::N",
                  "tukka",
                  "tʊkːɑ",
                  "t ʊ k k ɑ",
                  "tuka",
                  "TYKA",
                  "TVKV",
                  "validate"
                ],
                [
                  "13",
                  "fin",
                  "finn1318",
                  "Schnurrbart::N",
                  "viikset",
                  "ʋiːksɛt",
                  "ʋ i i k s ɛ t",
                  "wiksEt",
                  "WIKSET",
                  "WVKSVT",
                  "validate"
                ],
                [
                  "14",
                  "fin",
                  "finn1318",
                  "Bart::N",
                  "parta",
                  "pɑrtɑ",
                  "p ɑ r t ɑ",
                  "parta",
                  "PARTA",
                  "PVRTV",
                  "validate"
                ],
                [
                  "15",
                  "fin",
                  "finn1318",
                  "Kinn::N",
                  "leuka",
                  "lɛʊkɑ",
                  "l ɛ ʊ k ɑ",
                  "lEuka",
                  "LEYKA",
                  "RVKV",
                  "validate"
                ],
                [
                  "16",
                  "fin",
                  "finn1318",
                  "Kiefer[Anatomie]::N",
                  "leukaluu",
                  "lɛʊkɑluː",
                  "l ɛ ʊ k ɑ l u u",
                  "lEukalu",
                  "LEYKALY",
                  "RVKVRV",
                  "validate"
                ],
                [
                  "17",
                  "fin",
                  "finn1318",
                  "Kehle::N",
                  "kurkku",
                  "kʊrkːʊ",
                  "k ʊ r k k ʊ",
                  "kurku",
                  "KYRKY",
                  "KVRKV",
                  "validate"
                ],
                [
                  "18",
                  "fin",
                  "finn1318",
                  "Hals::N",
                  "kaula",
                  "kɑwlɑ",
                  "k ɑ w l ɑ",
                  "kawla",
                  "KAWLA",
                  "KVWRV",
                  "validate"
                ],
                [
                  "19",
                  "fin",
                  "finn1318",
                  "Genick::N",
                  "niska",
                  "niskɑ",
                  "n i s k ɑ",
                  "niska",
                  "NISKA",
                  "NVSKV",
                  "validate"
                ],
                [
                  "20",
                  "fin",
                  "finn1318",
                  "Kopf::N",
                  "pää",
                  "pæː",
                  "p æ æ",
                  "pE",
                  "PE",
                  "PV",
                  "validate"
                ],
                [
                  "21",
                  "fin",
                  "finn1318",
                  "Rücken::N",
                  "selkä",
                  "sɛlkæ",
                  "s ɛ l k æ",
                  "sElkE",
                  "SELKE",
                  "SVRKV",
                  "validate"
                ],
                [
                  "22",
                  "fin",
                  "finn1318",
                  "Bauch::N",
                  "maha",
                  "mɑhɑ",
                  "m ɑ h ɑ",
                  "maha",
                  "MAHA",
                  "MVHV",
                  "validate"
                ],
                [
                  "23",
                  "fin",
                  "finn1318",
                  "Bauch::N",
                  "vatsa",
                  "ʋɑt͡sɑ",
                  "ʋ ɑ t͡s ɑ",
                  "waca",
                  "WACA",
                  "WVKV",
                  "validate"
                ],
                [
                  "24",
                  "fin",
                  "finn1318",
                  "Nabel::N",
                  "napa",
                  "nɑpɑ",
                  "n ɑ p ɑ",
                  "napa",
                  "NAPA",
                  "NVPV",
                  "validate"
                ],
                [
                  "25",
                  "fin",
                  "finn1318",
                  "Busen::N",
                  "rinta",
                  "rintɑ",
                  "r i n t ɑ",
                  "rinta",
                  "RINTA",
                  "RVNTV",
                  "validate"
                ],
                [
                  "26",
                  "fin",
                  "finn1318",
                  "Brust::N",
                  "rinta",
                  "rintɑ",
                  "r i n t ɑ",
                  "rinta",
                  "RINTA",
                  "RVNTV",
                  "validate"
                ],
                [
                  "27",
                  "fin",
                  "finn1318",
                  "Schulter::N",
                  "olka",
                  "ɔlkɑ",
                  "ɔ l k ɑ",
                  "olka",
                  "ULKA",
                  "VRKV",
                  "validate"
                ],
                [
                  "28",
                  "fin",
                  "finn1318",
                  "Schulter::N",
                  "hartia",
                  "hɑrtiɑ",
                  "h ɑ r t i ɑ",
                  "hartia",
                  "HARTIA",
                  "HVRTV",
                  "validate"
                ],
                [
                  "29",
                  "fin",
                  "finn1318",
                  "Schulter::N",
                  "olkapää",
                  "ɔlkɑpæː",
                  "ɔ l k ɑ p æ æ",
                  "olkapE",
                  "ULKAPE",
                  "VRKVPV",
                  "validate"
                ],
                [
                  "30",
                  "fin",
                  "finn1318",
                  "Arm::N",
                  "käsivarsi",
                  "kæsiʋɑrsi",
                  "k æ s i ʋ ɑ r s i",
                  "kEsiwarsi",
                  "KESIWARSI",
                  "KVSVWVRSV",
                  "validate"
                ],
                [
                  "31",
                  "fin",
                  "finn1318",
                  "Ellenbogen::N",
                  "kyynärpää",
                  "kyːnærpæː",
                  "k y y n æ r p æ æ",
                  "kinErpE",
                  "KYNERPE",
                  "KVNVRPV",
                  "validate"
                ],
                [
                  "32",
                  "fin",
                  "finn1318",
                  "Hand::N",
                  "käsi",
                  "kæsi",
                  "k æ s i",
                  "kEsi",
                  "KESI",
                  "KVSV",
                  "validate"
                ],
                [
                  "33",
                  "fin",
                  "finn1318",
                  "Handfläche::N",
                  "kämmen",
                  "kæmːɛn",
                  "k æ m m ɛ n",
                  "kEmEn",
                  "KEMEN",
                  "KVMVN",
                  "validate"
                ],
                [
                  "34",
                  "fin",
                  "finn1318",
                  "Finger::N",
                  "sormi",
                  "sɔrmi",
                  "s ɔ r m i",
                  "sormi",
                  "SURMI",
                  "SVRMV",
                  "validate"
                ],
                [
                  "35",
                  "fin",
                  "finn1318",
                  "Fingernagel::N",
                  "kynsi",
                  "kʏnsi",
                  "k ʏ n s i",
                  "kinsi",
                  "KYNSI",
                  "KVNSV",
                  "validate"
                ],
                [
                  "36",
                  "fin",
                  "finn1318",
                  "Nagel[Anatomie]::N",
                  "kynsi",
                  "kʏnsi",
                  "k ʏ n s i",
                  "kinsi",
                  "KYNSI",
                  "KVNSV",
                  "validate"
                ],
                [
                  "37",
                  "fin",
                  "finn1318",
                  "Zeh::N",
                  "varvas",
                  "ʋɑrʋɑs",
                  "ʋ ɑ r ʋ ɑ s",
                  "warwas",
                  "WARWAS",
                  "WVRWVS",
                  "validate"
                ],
                [
                  "38",
                  "fin",
                  "finn1318",
                  "Fuß::N",
                  "jalka",
                  "jɑlkɑ",
                  "j ɑ l k ɑ",
                  "yalka",
                  "JALKA",
                  "JVRKV",
                  "validate"
                ],
                [
                  "39",
                  "fin",
                  "finn1318",
                  "Ferse::N",
                  "kantapää",
                  "kɑntɑpæː",
                  "k ɑ n t ɑ p æ æ",
                  "kantapE",
                  "KANTAPE",
                  "KVNTVPV",
                  "validate"
                ],
                [
                  "40",
                  "fin",
                  "finn1318",
                  "Knie::N",
                  "polvi",
                  "pɔlʋi",
                  "p ɔ l ʋ i",
                  "polwi",
                  "PULWI",
                  "PVRWV",
                  "validate"
                ],
                [
                  "41",
                  "fin",
                  "finn1318",
                  "Oberschenkel::N",
                  "reisi",
                  "rɛi̯si",
                  "r ɛ i s i",
                  "rEisi",
                  "REISI",
                  "RVSV",
                  "validate"
                ],
                [
                  "42",
                  "fin",
                  "finn1318",
                  "Bein::N",
                  "jalka",
                  "jɑlkɑ",
                  "j ɑ l k ɑ",
                  "yalka",
                  "JALKA",
                  "JVRKV",
                  "validate"
                ],
                [
                  "43",
                  "fin",
                  "finn1318",
                  "Körper::N",
                  "keho",
                  "kɛhɔ",
                  "k ɛ h ɔ",
                  "kEho",
                  "KEHU",
                  "KVHV",
                  "validate"
                ],
                [
                  "44",
                  "fin",
                  "finn1318",
                  "Körper::N",
                  "ruumis",
                  "ruːmis",
                  "r u u m i s",
                  "rumis",
                  "RYMIS",
                  "RVMVS",
                  "validate"
                ],
                [
                  "45",
                  "fin",
                  "finn1318",
                  "Haut::N",
                  "iho",
                  "ihɔ",
                  "i h ɔ",
                  "iho",
                  "IHU",
                  "VHV",
                  "validate"
                ],
                [
                  "46",
                  "fin",
                  "finn1318",
                  "Blut::N",
                  "veri",
                  "ʋɛri",
                  "ʋ ɛ r i",
                  "wEri",
                  "WERI",
                  "WVRV",
                  "validate"
                ],
                [
                  "47",
                  "fin",
                  "finn1318",
                  "Ader::N",
                  "suoni",
                  "suɔ̯ni",
                  "s u ɔ n i",
                  "suoni",
                  "SYUNI",
                  "SVNV",
                  "validate"
                ],
                [
                  "48",
                  "fin",
                  "finn1318",
                  "Sehne::N",
                  "jänne",
                  "jænːɛ",
                  "j æ n n ɛ",
                  "yEnE",
                  "JENE",
                  "JVNV",
                  "validate"
                ],
                [
                  "49",
                  "fin",
                  "finn1318",
                  "Knochen::N",
                  "luu",
                  "luː",
                  "l u u",
                  "lu",
                  "LY",
                  "RV",
                  "validate"
                ]
              ],
              "shape": {
                "columns": 10,
                "rows": 121613
              }
            },
            "text/html": [
              "<div>\n",
              "<style scoped>\n",
              "    .dataframe tbody tr th:only-of-type {\n",
              "        vertical-align: middle;\n",
              "    }\n",
              "\n",
              "    .dataframe tbody tr th {\n",
              "        vertical-align: top;\n",
              "    }\n",
              "\n",
              "    .dataframe thead th {\n",
              "        text-align: right;\n",
              "    }\n",
              "</style>\n",
              "<table border=\"1\" class=\"dataframe\">\n",
              "  <thead>\n",
              "    <tr style=\"text-align: right;\">\n",
              "      <th></th>\n",
              "      <th>Language_ID</th>\n",
              "      <th>Glottocode</th>\n",
              "      <th>Concept_ID</th>\n",
              "      <th>Word_Form</th>\n",
              "      <th>rawIPA</th>\n",
              "      <th>IPA</th>\n",
              "      <th>ASJP</th>\n",
              "      <th>List</th>\n",
              "      <th>Dolgo</th>\n",
              "      <th>Next_Step</th>\n",
              "    </tr>\n",
              "  </thead>\n",
              "  <tbody>\n",
              "    <tr>\n",
              "      <th>0</th>\n",
              "      <td>fin</td>\n",
              "      <td>finn1318</td>\n",
              "      <td>Auge::N</td>\n",
              "      <td>silmä</td>\n",
              "      <td>silmæ</td>\n",
              "      <td>s i l m æ</td>\n",
              "      <td>silmE</td>\n",
              "      <td>SILME</td>\n",
              "      <td>SVRMV</td>\n",
              "      <td>validate</td>\n",
              "    </tr>\n",
              "    <tr>\n",
              "      <th>1</th>\n",
              "      <td>fin</td>\n",
              "      <td>finn1318</td>\n",
              "      <td>Ohr::N</td>\n",
              "      <td>korva</td>\n",
              "      <td>kɔrʋɑ</td>\n",
              "      <td>k ɔ r ʋ ɑ</td>\n",
              "      <td>korwa</td>\n",
              "      <td>KURWA</td>\n",
              "      <td>KVRWV</td>\n",
              "      <td>validate</td>\n",
              "    </tr>\n",
              "    <tr>\n",
              "      <th>2</th>\n",
              "      <td>fin</td>\n",
              "      <td>finn1318</td>\n",
              "      <td>Nase::N</td>\n",
              "      <td>nenä</td>\n",
              "      <td>nɛnæ</td>\n",
              "      <td>n ɛ n æ</td>\n",
              "      <td>nEnE</td>\n",
              "      <td>NENE</td>\n",
              "      <td>NVNV</td>\n",
              "      <td>validate</td>\n",
              "    </tr>\n",
              "    <tr>\n",
              "      <th>3</th>\n",
              "      <td>fin</td>\n",
              "      <td>finn1318</td>\n",
              "      <td>Mund::N</td>\n",
              "      <td>suu</td>\n",
              "      <td>suː</td>\n",
              "      <td>s u u</td>\n",
              "      <td>su</td>\n",
              "      <td>SY</td>\n",
              "      <td>SV</td>\n",
              "      <td>validate</td>\n",
              "    </tr>\n",
              "    <tr>\n",
              "      <th>4</th>\n",
              "      <td>fin</td>\n",
              "      <td>finn1318</td>\n",
              "      <td>Zahn::N</td>\n",
              "      <td>hammas</td>\n",
              "      <td>hɑmːɑs</td>\n",
              "      <td>h ɑ m m ɑ s</td>\n",
              "      <td>hamas</td>\n",
              "      <td>HAMAS</td>\n",
              "      <td>HVMVS</td>\n",
              "      <td>validate</td>\n",
              "    </tr>\n",
              "    <tr>\n",
              "      <th>...</th>\n",
              "      <td>...</td>\n",
              "      <td>...</td>\n",
              "      <td>...</td>\n",
              "      <td>...</td>\n",
              "      <td>...</td>\n",
              "      <td>...</td>\n",
              "      <td>...</td>\n",
              "      <td>...</td>\n",
              "      <td>...</td>\n",
              "      <td>...</td>\n",
              "    </tr>\n",
              "    <tr>\n",
              "      <th>121608</th>\n",
              "      <td>cmn</td>\n",
              "      <td>mand1415</td>\n",
              "      <td>verkaufen::V</td>\n",
              "      <td>卖</td>\n",
              "      <td>mâɪ̯</td>\n",
              "      <td>m a ɪ</td>\n",
              "      <td>mai</td>\n",
              "      <td>MAI</td>\n",
              "      <td>MV</td>\n",
              "      <td>validate</td>\n",
              "    </tr>\n",
              "    <tr>\n",
              "      <th>121609</th>\n",
              "      <td>cmn</td>\n",
              "      <td>mand1415</td>\n",
              "      <td>bezahlen::V</td>\n",
              "      <td>付钱</td>\n",
              "      <td>fû t͡ɕʰjɛ̌n</td>\n",
              "      <td>f u _ t͡ɕ ʰ j ɛ n</td>\n",
              "      <td>fuCyEn</td>\n",
              "      <td>BY_CJE2N</td>\n",
              "      <td>PV_KJV1N</td>\n",
              "      <td>validate</td>\n",
              "    </tr>\n",
              "    <tr>\n",
              "      <th>121610</th>\n",
              "      <td>cmn</td>\n",
              "      <td>mand1415</td>\n",
              "      <td>zahlen::V</td>\n",
              "      <td>支付</td>\n",
              "      <td>t͡ʂɨ˦fû</td>\n",
              "      <td>t ʂ ɨ f u</td>\n",
              "      <td>C3fu</td>\n",
              "      <td>CI1BY</td>\n",
              "      <td>KV1PV</td>\n",
              "      <td>validate</td>\n",
              "    </tr>\n",
              "    <tr>\n",
              "      <th>121611</th>\n",
              "      <td>cmn</td>\n",
              "      <td>mand1415</td>\n",
              "      <td>beherrschen::V</td>\n",
              "      <td>统治</td>\n",
              "      <td>tʰʊ̂̌ŋt͡ʂɨ̂</td>\n",
              "      <td>tʰ ʊ ŋ t ʂ ɨ</td>\n",
              "      <td>tuNC3</td>\n",
              "      <td>TY2NCI</td>\n",
              "      <td>TV1NKV</td>\n",
              "      <td>validate</td>\n",
              "    </tr>\n",
              "    <tr>\n",
              "      <th>121612</th>\n",
              "      <td>cmn</td>\n",
              "      <td>mand1415</td>\n",
              "      <td>ertragen::V</td>\n",
              "      <td>忍耐</td>\n",
              "      <td>ɻə̂̌nnâɪ̯</td>\n",
              "      <td>ɻ ə n n a ɪ</td>\n",
              "      <td>L3nai</td>\n",
              "      <td>RE2NNAI</td>\n",
              "      <td>RV1NNV</td>\n",
              "      <td>validate</td>\n",
              "    </tr>\n",
              "  </tbody>\n",
              "</table>\n",
              "<p>121613 rows × 10 columns</p>\n",
              "</div>"
            ],
            "text/plain": [
              "       Language_ID Glottocode      Concept_ID Word_Form        rawIPA  \\\n",
              "0              fin   finn1318         Auge::N     silmä         silmæ   \n",
              "1              fin   finn1318          Ohr::N     korva         kɔrʋɑ   \n",
              "2              fin   finn1318         Nase::N      nenä          nɛnæ   \n",
              "3              fin   finn1318         Mund::N       suu           suː   \n",
              "4              fin   finn1318         Zahn::N    hammas        hɑmːɑs   \n",
              "...            ...        ...             ...       ...           ...   \n",
              "121608         cmn   mand1415    verkaufen::V         卖         mâɪ̯   \n",
              "121609         cmn   mand1415     bezahlen::V        付钱  fû t͡ɕʰjɛ̌n   \n",
              "121610         cmn   mand1415       zahlen::V        支付      t͡ʂɨ˦fû   \n",
              "121611         cmn   mand1415  beherrschen::V        统治   tʰʊ̂̌ŋt͡ʂɨ̂   \n",
              "121612         cmn   mand1415     ertragen::V        忍耐    ɻə̂̌nnâɪ̯   \n",
              "\n",
              "                      IPA    ASJP      List     Dolgo Next_Step  \n",
              "0               s i l m æ   silmE     SILME     SVRMV  validate  \n",
              "1               k ɔ r ʋ ɑ   korwa     KURWA     KVRWV  validate  \n",
              "2                 n ɛ n æ    nEnE      NENE      NVNV  validate  \n",
              "3                   s u u      su        SY        SV  validate  \n",
              "4             h ɑ m m ɑ s   hamas     HAMAS     HVMVS  validate  \n",
              "...                   ...     ...       ...       ...       ...  \n",
              "121608              m a ɪ     mai       MAI        MV  validate  \n",
              "121609  f u _ t͡ɕ ʰ j ɛ n  fuCyEn  BY_CJE2N  PV_KJV1N  validate  \n",
              "121610          t ʂ ɨ f u    C3fu     CI1BY     KV1PV  validate  \n",
              "121611       tʰ ʊ ŋ t ʂ ɨ   tuNC3    TY2NCI    TV1NKV  validate  \n",
              "121612        ɻ ə n n a ɪ   L3nai   RE2NNAI    RV1NNV  validate  \n",
              "\n",
              "[121613 rows x 10 columns]"
            ]
          },
          "metadata": {},
          "output_type": "display_data"
        }
      ],
      "source": [
        "import pandas as pd\n",
        "wordforms=pd.read_csv(northeuralex_path)\n",
        "display(wordforms)"
      ]
    },
    {
      "cell_type": "markdown",
      "metadata": {
        "id": "1jBeO3Civbry"
      },
      "source": [
        "**Question:** Describe the meaning of the `Language_ID`, `Concept_ID`, `rawIPA` and `IPA` columns of the data.  Why are there separate `rawIPA` and `IPA` columns?\n",
        "\n",
        "**A2: put your answer here (maximum 1 sentence per column, then one sentence for the \"Why\" question)**"
      ]
    },
    {
      "cell_type": "markdown",
      "metadata": {
        "id": "HPXeseAkhTPo"
      },
      "source": [
        "## Question 3 (2 points)"
      ]
    },
    {
      "cell_type": "markdown",
      "metadata": {
        "id": "RNSrreIKo6r5"
      },
      "source": [
        "Now let's read in some metadata about the languages."
      ]
    },
    {
      "cell_type": "code",
      "execution_count": 5,
      "metadata": {
        "colab": {
          "base_uri": "https://localhost:8080/",
          "height": 423
        },
        "id": "ov3JtI5lvc0g",
        "outputId": "e63bb0c1-02eb-450b-e40a-b84578cb1d1a"
      },
      "outputs": [
        {
          "data": {
            "application/vnd.microsoft.datawrangler.viewer.v0+json": {
              "columns": [
                {
                  "name": "index",
                  "rawType": "int64",
                  "type": "integer"
                },
                {
                  "name": "name",
                  "rawType": "object",
                  "type": "string"
                },
                {
                  "name": "glotto_code",
                  "rawType": "object",
                  "type": "string"
                },
                {
                  "name": "iso_code",
                  "rawType": "object",
                  "type": "string"
                },
                {
                  "name": "family",
                  "rawType": "object",
                  "type": "string"
                },
                {
                  "name": "subfamily",
                  "rawType": "object",
                  "type": "string"
                },
                {
                  "name": "latitude",
                  "rawType": "float64",
                  "type": "float"
                },
                {
                  "name": "longitude",
                  "rawType": "float64",
                  "type": "float"
                }
              ],
              "conversionMethod": "pd.DataFrame",
              "ref": "cdb86c90-6c89-46ab-a01f-c90800c33c83",
              "rows": [
                [
                  "0",
                  "Finnish",
                  "finn1318",
                  "fin",
                  "Uralic",
                  "Finnic",
                  "61.0",
                  "24.45"
                ],
                [
                  "1",
                  "North Karelian",
                  "kare1335",
                  "krl",
                  "Uralic",
                  "Finnic",
                  "65.1691",
                  "30.8655"
                ],
                [
                  "2",
                  "Olonets Karelian",
                  "livv1243",
                  "olo",
                  "Uralic",
                  "Finnic",
                  "61.0",
                  "33.0"
                ],
                [
                  "3",
                  "Veps",
                  "veps1250",
                  "vep",
                  "Uralic",
                  "Finnic",
                  "60.3353",
                  "34.7865"
                ],
                [
                  "4",
                  "Estonian",
                  "esto1258",
                  "ekk",
                  "Uralic",
                  "Finnic",
                  "59.25",
                  "24.75"
                ],
                [
                  "5",
                  "Livonian",
                  "livv1244",
                  "liv",
                  "Uralic",
                  "Finnic",
                  "57.566",
                  "22.0262"
                ],
                [
                  "6",
                  "Southern Sami",
                  "sout2674",
                  "sma",
                  "Uralic",
                  "Saami",
                  "64.25",
                  "12.6"
                ],
                [
                  "7",
                  "Lule Sami",
                  "lule1254",
                  "smj",
                  "Uralic",
                  "Saami",
                  "67.2759",
                  "17.8057"
                ],
                [
                  "8",
                  "Northern Sami",
                  "nort2671",
                  "sme",
                  "Uralic",
                  "Saami",
                  "68.725",
                  "22.1113"
                ],
                [
                  "9",
                  "Inari Sami",
                  "inar1241",
                  "smn",
                  "Uralic",
                  "Saami",
                  "69.4229",
                  "27.8658"
                ],
                [
                  "10",
                  "Skolt Sami",
                  "skol1241",
                  "sms",
                  "Uralic",
                  "Saami",
                  "68.8326",
                  "29.7204"
                ],
                [
                  "11",
                  "Kildin Sami",
                  "kild1236",
                  "sjd",
                  "Uralic",
                  "Saami",
                  "68.2158",
                  "35.8348"
                ],
                [
                  "12",
                  "Hill Mari",
                  "west2392",
                  "mrj",
                  "Uralic",
                  "Mari",
                  "56.33",
                  "46.33"
                ],
                [
                  "13",
                  "Meadow Mari",
                  "east2328",
                  "mhr",
                  "Uralic",
                  "Mari",
                  "57.0",
                  "49.5"
                ],
                [
                  "14",
                  "Moksha",
                  "moks1248",
                  "mdf",
                  "Uralic",
                  "Mordvin",
                  "54.1855",
                  "42.6728"
                ],
                [
                  "15",
                  "Erzya",
                  "erzy1239",
                  "myv",
                  "Uralic",
                  "Mordvin",
                  "53.0",
                  "45.5"
                ],
                [
                  "16",
                  "Udmurt",
                  "udmu1245",
                  "udm",
                  "Uralic",
                  "Permian",
                  "56.12921",
                  "52.63548"
                ],
                [
                  "17",
                  "Komi-Permyak",
                  "komi1269",
                  "koi",
                  "Uralic",
                  "Permian",
                  "59.6602",
                  "54.7959"
                ],
                [
                  "18",
                  "Komi-Zyrian",
                  "komi1268",
                  "kpv",
                  "Uralic",
                  "Permian",
                  "64.0527",
                  "54.946"
                ],
                [
                  "19",
                  "Hungarian",
                  "hung1274",
                  "hun",
                  "Uralic",
                  "Hungarian",
                  "46.9068585714",
                  "19.6555271429"
                ],
                [
                  "20",
                  "Northern Khanty",
                  "khan1273",
                  "kca",
                  "Uralic",
                  "Khantyic",
                  "62.4308",
                  "66.1218"
                ],
                [
                  "21",
                  "Northern Mansi",
                  "mans1258",
                  "mns",
                  "Uralic",
                  "Mansic",
                  "64.4118",
                  "61.344"
                ],
                [
                  "22",
                  "Northern Selkup",
                  "selk1253",
                  "sel",
                  "Uralic",
                  "Samoyedic",
                  "59.9409",
                  "82.3004"
                ],
                [
                  "23",
                  "Tundra Nenets",
                  "nene1249",
                  "yrk",
                  "Uralic",
                  "Samoyedic",
                  "66.1775",
                  "71.0234"
                ],
                [
                  "24",
                  "Forest Enets",
                  "fore1265",
                  "enf",
                  "Uralic",
                  "Samoyedic",
                  "69.9829",
                  "88.2121"
                ],
                [
                  "25",
                  "Nganasan",
                  "ngan1291",
                  "nio",
                  "Uralic",
                  "Samoyedic",
                  "73.1354",
                  "86.2106"
                ],
                [
                  "26",
                  "Bengali",
                  "beng1280",
                  "ben",
                  "Indo-European",
                  "Indo-Aryan",
                  "24.0",
                  "90.0"
                ],
                [
                  "27",
                  "Hindi",
                  "hind1269",
                  "hin",
                  "Indo-European",
                  "Indo-Aryan",
                  "27.2",
                  "78.0"
                ],
                [
                  "28",
                  "Northern Pashto",
                  "nort2646",
                  "pbu",
                  "Indo-European",
                  "Iranian",
                  "32.1",
                  "67.2"
                ],
                [
                  "29",
                  "Western Farsi",
                  "west2369",
                  "pes",
                  "Indo-European",
                  "Iranian",
                  "28.6593",
                  "55.1586"
                ],
                [
                  "30",
                  "Northern Kurdish",
                  "nort2641",
                  "kmr",
                  "Indo-European",
                  "Iranian",
                  "37.0",
                  "43.0"
                ],
                [
                  "31",
                  "Ossetian",
                  "osse1243",
                  "oss",
                  "Indo-European",
                  "Iranian",
                  "43.18",
                  "44.23"
                ],
                [
                  "32",
                  "Armenian",
                  "nucl1235",
                  "hye",
                  "Indo-European",
                  "Armenic",
                  "40.0",
                  "45.0"
                ],
                [
                  "33",
                  "Modern Greek",
                  "mode1248",
                  "ell",
                  "Indo-European",
                  "Graeco-Phrygian",
                  "38.0",
                  "23.75"
                ],
                [
                  "34",
                  "Standard Albanian",
                  "alba1267",
                  "sqi",
                  "Indo-European",
                  "Albanian",
                  "41.33",
                  "19.85"
                ],
                [
                  "35",
                  "Bulgarian",
                  "bulg1262",
                  "bul",
                  "Indo-European",
                  "Balto-Slavic",
                  "42.7",
                  "23.8"
                ],
                [
                  "36",
                  "Croatian",
                  "croa1245",
                  "hrv",
                  "Indo-European",
                  "Balto-Slavic",
                  "45.2006",
                  "16.826"
                ],
                [
                  "37",
                  "Slovene",
                  "slov1268",
                  "slv",
                  "Indo-European",
                  "Balto-Slavic",
                  "46.2543",
                  "14.7766"
                ],
                [
                  "38",
                  "Slovak",
                  "slov1269",
                  "slk",
                  "Indo-European",
                  "Balto-Slavic",
                  "48.545705",
                  "18.78479"
                ],
                [
                  "39",
                  "Czech",
                  "czec1258",
                  "ces",
                  "Indo-European",
                  "Balto-Slavic",
                  "49.873398",
                  "15.10437"
                ],
                [
                  "40",
                  "Polish",
                  "poli1260",
                  "pol",
                  "Indo-European",
                  "Balto-Slavic",
                  "51.8439",
                  "18.6255"
                ],
                [
                  "41",
                  "Ukrainian",
                  "ukra1253",
                  "ukr",
                  "Indo-European",
                  "Balto-Slavic",
                  "50.25",
                  "28.65"
                ],
                [
                  "42",
                  "Belarusian",
                  "bela1254",
                  "bel",
                  "Indo-European",
                  "Balto-Slavic",
                  "53.2307",
                  "25.6038"
                ],
                [
                  "43",
                  "Russian",
                  "russ1263",
                  "rus",
                  "Indo-European",
                  "Balto-Slavic",
                  "57.6",
                  "39.8"
                ],
                [
                  "44",
                  "Lithuanian",
                  "lith1251",
                  "lit",
                  "Indo-European",
                  "Balto-Slavic",
                  "55.1429",
                  "23.9601"
                ],
                [
                  "45",
                  "Latvian",
                  "latv1249",
                  "lav",
                  "Indo-European",
                  "Balto-Slavic",
                  "56.826108",
                  "24.309118"
                ],
                [
                  "46",
                  "Icelandic",
                  "icel1247",
                  "isl",
                  "Indo-European",
                  "Germanic",
                  "63.4837",
                  "-19.0212"
                ],
                [
                  "47",
                  "Norwegian (Bokmål)",
                  "norw1258",
                  "nor",
                  "Indo-European",
                  "Germanic",
                  "59.92",
                  "10.71"
                ],
                [
                  "48",
                  "Swedish",
                  "swed1254",
                  "swe",
                  "Indo-European",
                  "Germanic",
                  "59.800634",
                  "17.389526"
                ],
                [
                  "49",
                  "Danish",
                  "dani1285",
                  "dan",
                  "Indo-European",
                  "Germanic",
                  "55.6",
                  "12.5"
                ]
              ],
              "shape": {
                "columns": 7,
                "rows": 107
              }
            },
            "text/html": [
              "<div>\n",
              "<style scoped>\n",
              "    .dataframe tbody tr th:only-of-type {\n",
              "        vertical-align: middle;\n",
              "    }\n",
              "\n",
              "    .dataframe tbody tr th {\n",
              "        vertical-align: top;\n",
              "    }\n",
              "\n",
              "    .dataframe thead th {\n",
              "        text-align: right;\n",
              "    }\n",
              "</style>\n",
              "<table border=\"1\" class=\"dataframe\">\n",
              "  <thead>\n",
              "    <tr style=\"text-align: right;\">\n",
              "      <th></th>\n",
              "      <th>name</th>\n",
              "      <th>glotto_code</th>\n",
              "      <th>iso_code</th>\n",
              "      <th>family</th>\n",
              "      <th>subfamily</th>\n",
              "      <th>latitude</th>\n",
              "      <th>longitude</th>\n",
              "    </tr>\n",
              "  </thead>\n",
              "  <tbody>\n",
              "    <tr>\n",
              "      <th>0</th>\n",
              "      <td>Finnish</td>\n",
              "      <td>finn1318</td>\n",
              "      <td>fin</td>\n",
              "      <td>Uralic</td>\n",
              "      <td>Finnic</td>\n",
              "      <td>61.0000</td>\n",
              "      <td>24.4500</td>\n",
              "    </tr>\n",
              "    <tr>\n",
              "      <th>1</th>\n",
              "      <td>North Karelian</td>\n",
              "      <td>kare1335</td>\n",
              "      <td>krl</td>\n",
              "      <td>Uralic</td>\n",
              "      <td>Finnic</td>\n",
              "      <td>65.1691</td>\n",
              "      <td>30.8655</td>\n",
              "    </tr>\n",
              "    <tr>\n",
              "      <th>2</th>\n",
              "      <td>Olonets Karelian</td>\n",
              "      <td>livv1243</td>\n",
              "      <td>olo</td>\n",
              "      <td>Uralic</td>\n",
              "      <td>Finnic</td>\n",
              "      <td>61.0000</td>\n",
              "      <td>33.0000</td>\n",
              "    </tr>\n",
              "    <tr>\n",
              "      <th>3</th>\n",
              "      <td>Veps</td>\n",
              "      <td>veps1250</td>\n",
              "      <td>vep</td>\n",
              "      <td>Uralic</td>\n",
              "      <td>Finnic</td>\n",
              "      <td>60.3353</td>\n",
              "      <td>34.7865</td>\n",
              "    </tr>\n",
              "    <tr>\n",
              "      <th>4</th>\n",
              "      <td>Estonian</td>\n",
              "      <td>esto1258</td>\n",
              "      <td>ekk</td>\n",
              "      <td>Uralic</td>\n",
              "      <td>Finnic</td>\n",
              "      <td>59.2500</td>\n",
              "      <td>24.7500</td>\n",
              "    </tr>\n",
              "    <tr>\n",
              "      <th>...</th>\n",
              "      <td>...</td>\n",
              "      <td>...</td>\n",
              "      <td>...</td>\n",
              "      <td>...</td>\n",
              "      <td>...</td>\n",
              "      <td>...</td>\n",
              "      <td>...</td>\n",
              "    </tr>\n",
              "    <tr>\n",
              "      <th>102</th>\n",
              "      <td>Dargwa</td>\n",
              "      <td>darg1241</td>\n",
              "      <td>dar</td>\n",
              "      <td>Nakh-Daghestanian</td>\n",
              "      <td>Daghestanian</td>\n",
              "      <td>42.4257</td>\n",
              "      <td>47.4388</td>\n",
              "    </tr>\n",
              "    <tr>\n",
              "      <th>103</th>\n",
              "      <td>Chechen</td>\n",
              "      <td>chec1245</td>\n",
              "      <td>che</td>\n",
              "      <td>Nakh-Daghestanian</td>\n",
              "      <td>Nakh</td>\n",
              "      <td>43.5000</td>\n",
              "      <td>45.5000</td>\n",
              "    </tr>\n",
              "    <tr>\n",
              "      <th>104</th>\n",
              "      <td>Standard Arabic</td>\n",
              "      <td>stan1318</td>\n",
              "      <td>arb</td>\n",
              "      <td>Afro-Asiatic</td>\n",
              "      <td>Semitic</td>\n",
              "      <td>27.9625</td>\n",
              "      <td>43.8525</td>\n",
              "    </tr>\n",
              "    <tr>\n",
              "      <th>105</th>\n",
              "      <td>Modern Hebrew</td>\n",
              "      <td>hebr1245</td>\n",
              "      <td>heb</td>\n",
              "      <td>Afro-Asiatic</td>\n",
              "      <td>Semitic</td>\n",
              "      <td>31.1056</td>\n",
              "      <td>35.0179</td>\n",
              "    </tr>\n",
              "    <tr>\n",
              "      <th>106</th>\n",
              "      <td>Mandarin Chinese</td>\n",
              "      <td>mand1415</td>\n",
              "      <td>cmn</td>\n",
              "      <td>Sino-Tibetan</td>\n",
              "      <td>Sinitic</td>\n",
              "      <td>40.0209</td>\n",
              "      <td>116.2280</td>\n",
              "    </tr>\n",
              "  </tbody>\n",
              "</table>\n",
              "<p>107 rows × 7 columns</p>\n",
              "</div>"
            ],
            "text/plain": [
              "                 name glotto_code iso_code             family     subfamily  \\\n",
              "0             Finnish    finn1318      fin             Uralic        Finnic   \n",
              "1      North Karelian    kare1335      krl             Uralic        Finnic   \n",
              "2    Olonets Karelian    livv1243      olo             Uralic        Finnic   \n",
              "3                Veps    veps1250      vep             Uralic        Finnic   \n",
              "4            Estonian    esto1258      ekk             Uralic        Finnic   \n",
              "..                ...         ...      ...                ...           ...   \n",
              "102            Dargwa    darg1241      dar  Nakh-Daghestanian  Daghestanian   \n",
              "103           Chechen    chec1245      che  Nakh-Daghestanian          Nakh   \n",
              "104   Standard Arabic    stan1318      arb       Afro-Asiatic       Semitic   \n",
              "105     Modern Hebrew    hebr1245      heb       Afro-Asiatic       Semitic   \n",
              "106  Mandarin Chinese    mand1415      cmn       Sino-Tibetan       Sinitic   \n",
              "\n",
              "     latitude  longitude  \n",
              "0     61.0000    24.4500  \n",
              "1     65.1691    30.8655  \n",
              "2     61.0000    33.0000  \n",
              "3     60.3353    34.7865  \n",
              "4     59.2500    24.7500  \n",
              "..        ...        ...  \n",
              "102   42.4257    47.4388  \n",
              "103   43.5000    45.5000  \n",
              "104   27.9625    43.8525  \n",
              "105   31.1056    35.0179  \n",
              "106   40.0209   116.2280  \n",
              "\n",
              "[107 rows x 7 columns]"
            ]
          },
          "metadata": {},
          "output_type": "display_data"
        }
      ],
      "source": [
        "languages=pd.read_csv(languages_path)\n",
        "display(languages)"
      ]
    },
    {
      "cell_type": "markdown",
      "metadata": {
        "id": "XhxJBBlbvtzx"
      },
      "source": [
        "**Question:** Describe the meaning of the `family`, `iso_code`, and `subfamily` columns of the data.  \n",
        "\n",
        "**A3: put your answer here (maximum 1 sentence per column)**"
      ]
    },
    {
      "cell_type": "markdown",
      "metadata": {
        "id": "2u3yehAKhWv0"
      },
      "source": [
        "## Question 4 (2 points)"
      ]
    },
    {
      "cell_type": "markdown",
      "metadata": {
        "id": "qEroeQmKpJ1F"
      },
      "source": [
        "Now let's read in some further data about the concepts."
      ]
    },
    {
      "cell_type": "code",
      "execution_count": 6,
      "metadata": {
        "colab": {
          "base_uri": "https://localhost:8080/",
          "height": 496
        },
        "id": "Um70edh5vyiB",
        "outputId": "6f0e26f0-e59f-43a8-b520-94bcd73e656f"
      },
      "outputs": [
        {
          "data": {
            "application/vnd.microsoft.datawrangler.viewer.v0+json": {
              "columns": [
                {
                  "name": "index",
                  "rawType": "int64",
                  "type": "integer"
                },
                {
                  "name": "number",
                  "rawType": "int64",
                  "type": "integer"
                },
                {
                  "name": "position_in_ranking",
                  "rawType": "int64",
                  "type": "integer"
                },
                {
                  "name": "ranking_value",
                  "rawType": "object",
                  "type": "string"
                },
                {
                  "name": "id_nelex",
                  "rawType": "object",
                  "type": "string"
                },
                {
                  "name": "gloss_en",
                  "rawType": "object",
                  "type": "string"
                },
                {
                  "name": "gloss_ru",
                  "rawType": "object",
                  "type": "string"
                },
                {
                  "name": "annotation_en",
                  "rawType": "object",
                  "type": "string"
                },
                {
                  "name": "annotation_en.1",
                  "rawType": "object",
                  "type": "string"
                },
                {
                  "name": "annotation_ru",
                  "rawType": "object",
                  "type": "string"
                },
                {
                  "name": "concepticon",
                  "rawType": "object",
                  "type": "unknown"
                },
                {
                  "name": "concepticon_id",
                  "rawType": "int64",
                  "type": "integer"
                },
                {
                  "name": "concepticon_proposed",
                  "rawType": "object",
                  "type": "string"
                },
                {
                  "name": "comments",
                  "rawType": "object",
                  "type": "unknown"
                }
              ],
              "conversionMethod": "pd.DataFrame",
              "ref": "b2a3ee96-4e91-4de0-8fed-d056dcdeb761",
              "rows": [
                [
                  "0",
                  "1",
                  "44",
                  "-2,539237",
                  "Auge::N",
                  "eye",
                  "глаз",
                  "[[Anatomie]]",
                  "[[anatomy]]",
                  "[[анатомия]]",
                  "EYE",
                  "1248",
                  "EYE",
                  null
                ],
                [
                  "1",
                  "2",
                  "34",
                  "-2,649194",
                  "Ohr::N",
                  "ear",
                  "ухо",
                  "[[Anatomie]]",
                  "[[anatomy]]",
                  "[[анатомия]]",
                  "EAR",
                  "1247",
                  "EAR",
                  null
                ],
                [
                  "2",
                  "3",
                  "149",
                  "-1,995463",
                  "Nase::N",
                  "nose",
                  "нос",
                  "[[Anatomie]]",
                  "[[anatomy]]",
                  "[[анатомия]]",
                  "NOSE",
                  "1221",
                  "NOSE",
                  null
                ],
                [
                  "3",
                  "4",
                  "25",
                  "-2,762589",
                  "Mund::N",
                  "mouth",
                  "рот",
                  "[[Anatomie]]",
                  "[[anatomy]]",
                  "[[анатомия]]",
                  "MOUTH",
                  "674",
                  "MOUTH",
                  null
                ],
                [
                  "4",
                  "5",
                  "31",
                  "-2,670705",
                  "Zahn::N",
                  "tooth",
                  "зуб",
                  "[BSP:menschlicher Schneidezahn]",
                  "[EX:human incisor]",
                  "[НАПР:человека]",
                  "TOOTH",
                  "1380",
                  "TOOTH",
                  null
                ],
                [
                  "5",
                  "6",
                  "66",
                  "-2,387728",
                  "Zunge::N",
                  "tongue",
                  "язык",
                  "[[Anatomie]]",
                  "[[anatomy]]",
                  "[орган в полости рта]",
                  "TONGUE",
                  "1205",
                  "TONGUE",
                  null
                ],
                [
                  "6",
                  "7",
                  "430",
                  "-1,243607",
                  "Lippe::N",
                  "lip",
                  "губа",
                  "[[Anatomie]]",
                  "[[anatomy]]",
                  "[[анатомия]]",
                  "LIP",
                  "478",
                  "LIP",
                  null
                ],
                [
                  "7",
                  "8",
                  "897",
                  "0,10952",
                  "Wange::N",
                  "cheek",
                  "щека",
                  "[[Anatomie]]",
                  "[[anatomy]]",
                  "[[анатомия]]",
                  "CHEEK",
                  "1730",
                  "CHEEK",
                  null
                ],
                [
                  "8",
                  "9",
                  "644",
                  "-0,75467",
                  "Gesicht::N",
                  "face",
                  "лицо",
                  "[des Menschen]",
                  "[of a human]",
                  "[человека]",
                  "FACE",
                  "1560",
                  "FACE",
                  null
                ],
                [
                  "9",
                  "10",
                  "452",
                  "-1,186739",
                  "Stirn::N",
                  "forehead",
                  "лоб",
                  "[des Menschen]",
                  "[of a human]",
                  "[человека]",
                  "FOREHEAD",
                  "123",
                  "FOREHEAD",
                  null
                ],
                [
                  "10",
                  "11",
                  "121",
                  "-2,128777",
                  "Haar::N",
                  "hair",
                  "волос",
                  "[Kopfhaar des Menschen]",
                  "[of human head]",
                  "[на голове человека]",
                  "HAIR",
                  "1040",
                  "HAIR",
                  null
                ],
                [
                  "11",
                  "12",
                  "988",
                  "1,003531",
                  "Schnurrbart::N",
                  "moustache",
                  "усы",
                  "[eines Mannes]",
                  "[of a man]",
                  "[мужчины]",
                  "MOUSTACHE",
                  "1165",
                  "MOUSTACHE",
                  null
                ],
                [
                  "12",
                  "13",
                  "358",
                  "-1,416858",
                  "Bart::N",
                  "beard",
                  "борода",
                  "[allgemein]",
                  "[generic]",
                  "[волосяной покров нижней части лица]",
                  "BEARD",
                  "678",
                  "BEARD",
                  null
                ],
                [
                  "13",
                  "14",
                  "405",
                  "-1,31055",
                  "Kinn::N",
                  "chin",
                  "подбородок",
                  "[[Anatomie]]",
                  "[[anatomy]]",
                  "[[анатомия]]",
                  "CHIN",
                  "1510",
                  "CHIN",
                  null
                ],
                [
                  "14",
                  "15",
                  "690",
                  "-0,647343",
                  "Kiefer[Anatomie]::N",
                  "jaw",
                  "челюсть",
                  "[[Anatomie]]",
                  "[[anatomy]]",
                  "[[анатомия]]",
                  "JAW",
                  "798",
                  "JAW",
                  null
                ],
                [
                  "15",
                  "16",
                  "361",
                  "-1,412143",
                  "Kehle::N",
                  "throat",
                  "горло",
                  "[Hals von innen]",
                  "[from inside]",
                  "[НАПР:полоскать горло]",
                  "THROAT",
                  "1346",
                  "THROAT",
                  null
                ],
                [
                  "16",
                  "17",
                  "267",
                  "-1,638234",
                  "Hals::N",
                  "neck",
                  "шея",
                  "[Hals von außen, rundum]",
                  "[from outside]",
                  "[НАПР:бусы на шее]",
                  "NECK",
                  "1333",
                  "NECK",
                  null
                ],
                [
                  "17",
                  "18",
                  "804",
                  "-0,344891",
                  "Genick::N",
                  "nape",
                  "затылок",
                  "[hinter Teil des Halses]",
                  "[back side of neck]",
                  "[задняя часть головы]",
                  "NAPE_(OF_NECK)",
                  "1347",
                  "NAPE_(OF_NECK)",
                  null
                ],
                [
                  "18",
                  "19",
                  "23",
                  "-2,81461",
                  "Kopf::N",
                  "head",
                  "голова",
                  "[BSP:des Menschen]",
                  "[EX:of a human]",
                  "[НАПР:человека]",
                  "HEAD",
                  "1256",
                  "HEAD",
                  null
                ],
                [
                  "19",
                  "20",
                  "431",
                  "-1,243134",
                  "Rücken::N",
                  "back",
                  "спина",
                  "[des Menschen]",
                  "[of a human]",
                  "[человека]",
                  "BACK",
                  "1291",
                  "BACK",
                  null
                ],
                [
                  "20",
                  "21",
                  "378",
                  "-1,37446",
                  "Bauch::N",
                  "belly",
                  "живот",
                  "[des Menschen]",
                  "[of a human]",
                  "[человека]",
                  "BELLY",
                  "1251",
                  "BELLY",
                  null
                ],
                [
                  "21",
                  "22",
                  "346",
                  "-1,439977",
                  "Nabel::N",
                  "navel",
                  "пупок",
                  "[[Anatomie]]",
                  "[[anatomy]]",
                  "[[анатомия]]",
                  "NAVEL",
                  "1838",
                  "NAVEL",
                  null
                ],
                [
                  "22",
                  "23",
                  "740",
                  "-0,516307",
                  "Busen::N",
                  "bosom",
                  "грудь",
                  "[weibliche Brust]",
                  "[female breast]",
                  "[женская грудь]",
                  "BREAST",
                  "1402",
                  "BREAST",
                  null
                ],
                [
                  "23",
                  "24",
                  "296",
                  "-1,556723",
                  "Brust::N",
                  "breast",
                  "грудь",
                  "[BSP:eines Mannes]",
                  "[EX:of a man]",
                  "[НАПР:мужчины]",
                  "CHEST",
                  "1592",
                  "CHEST",
                  null
                ],
                [
                  "24",
                  "25",
                  "533",
                  "-0,987579",
                  "Schulter::N",
                  "shoulder",
                  "плечо",
                  "[[Anatomie]]",
                  "[[anatomy]]",
                  "[[анатомия]]",
                  "SHOULDER",
                  "1482",
                  "SHOULDER",
                  null
                ],
                [
                  "25",
                  "26",
                  "46",
                  "-2,514312",
                  "Arm::N",
                  "arm",
                  "рука",
                  "[des Menschen]",
                  "[of a human]",
                  "[от пальцев до плеча]",
                  "ARM",
                  "1673",
                  "ARM",
                  null
                ],
                [
                  "26",
                  "27",
                  "770",
                  "-0,443831",
                  "Ellenbogen::N",
                  "elbow",
                  "локоть",
                  "[des Menschen]",
                  "[of a human]",
                  "[человека]",
                  "ELBOW",
                  "981",
                  "ELBOW",
                  null
                ],
                [
                  "27",
                  "28",
                  "41",
                  "-2,555057",
                  "Hand::N",
                  "hand",
                  "кисть",
                  "[des Menschen]",
                  "[of a human]",
                  "[руки]",
                  "HAND",
                  "1277",
                  "HAND",
                  null
                ],
                [
                  "28",
                  "29",
                  "678",
                  "-0,672581",
                  "Handfläche::N",
                  "palm",
                  "ладонь",
                  "[[Anatomie]]",
                  "[[anatomy]]",
                  "[[анатомия]]",
                  "PALM_OF_HAND",
                  "1183",
                  "PALM_OF_HAND",
                  null
                ],
                [
                  "29",
                  "30",
                  "191",
                  "-1,839551",
                  "Finger::N",
                  "finger",
                  "палец",
                  "[des Menschen]",
                  "[of a human]",
                  "[на руке человека]",
                  "FINGER",
                  "1303",
                  "FINGER",
                  null
                ],
                [
                  "30",
                  "31",
                  "317",
                  "-1,500767",
                  "Fingernagel::N",
                  "fingernail",
                  "ноготь на руке",
                  "[[Anatomie]]",
                  "[[anatomy]]",
                  "[человека]",
                  "FINGERNAIL",
                  "1258",
                  "FINGERNAIL",
                  null
                ],
                [
                  "31",
                  "32",
                  "98",
                  "-2,240028",
                  "Nagel[Anatomie]::N",
                  "nail",
                  "ноготь",
                  "[[Anatomie]]",
                  "[[anatomy]]",
                  "[на руке или на ноге]",
                  "FINGERNAIL_OR_TOENAIL",
                  "1896",
                  "FINGERNAIL_OR_TOENAIL",
                  null
                ],
                [
                  "32",
                  "33",
                  "894",
                  "0,074736",
                  "Zeh::N",
                  "toe",
                  "палец ноги",
                  "[des Menschen]",
                  "[of a human]",
                  "[человека]",
                  "TOE",
                  "1389",
                  "TOE",
                  null
                ],
                [
                  "33",
                  "34",
                  "73",
                  "-2,341286",
                  "Fuß::N",
                  "foot",
                  "ступня",
                  "[des Menschen]",
                  "[of a human]",
                  "[человека]",
                  "FOOT",
                  "1301",
                  "FOOT",
                  null
                ],
                [
                  "34",
                  "35",
                  "443",
                  "-1,212251",
                  "Ferse::N",
                  "heel",
                  "пятка",
                  "[[Anatomie]]",
                  "[[anatomy]]",
                  "[[анатомия]]",
                  "HEEL",
                  "980",
                  "HEEL",
                  null
                ],
                [
                  "35",
                  "36",
                  "271",
                  "-1,62634",
                  "Knie::N",
                  "knee",
                  "колено",
                  "[[Anatomie]]",
                  "[[anatomy]]",
                  "[[анатомия]]",
                  "KNEE",
                  "1371",
                  "KNEE",
                  null
                ],
                [
                  "36",
                  "37",
                  "616",
                  "-0,829976",
                  "Oberschenkel::N",
                  "thigh",
                  "бедро",
                  "[[Anatomie]]",
                  "[[anatomy]]",
                  "[верхняя часть ноги до колена]",
                  "THIGH",
                  "800",
                  "THIGH",
                  null
                ],
                [
                  "37",
                  "38",
                  "57",
                  "-2,457644",
                  "Bein::N",
                  "leg",
                  "нога",
                  "[des Menschen]",
                  "[of a human]",
                  "[нога не включая ступню]",
                  "LEG",
                  "1297",
                  "LEG",
                  null
                ],
                [
                  "38",
                  "39",
                  "252",
                  "-1,67423",
                  "Körper::N",
                  "body",
                  "тело",
                  "[eines Lebewesens]",
                  "[of a living organism]",
                  "[живого существа]",
                  "BODY",
                  "1480",
                  "BODY",
                  null
                ],
                [
                  "39",
                  "40",
                  "417",
                  "-1,271135",
                  "Haut::N",
                  "skin",
                  "кожа",
                  "[des Menschen]",
                  "[of a human]",
                  "[человека]",
                  "SKIN",
                  "763",
                  "SKIN",
                  null
                ],
                [
                  "40",
                  "41",
                  "35",
                  "-2,63808",
                  "Blut::N",
                  "blood",
                  "кровь",
                  "[Flüssigkeit]",
                  "[fluid]",
                  "[жидкая]",
                  "BLOOD",
                  "946",
                  "BLOOD",
                  null
                ],
                [
                  "41",
                  "42",
                  "297",
                  "-1,55507",
                  "Ader::N",
                  "vein",
                  "вена",
                  "[[Anatomie]]",
                  "[[anatomy]]",
                  "[[анатомия]]",
                  "VEIN",
                  "1924",
                  "VEIN",
                  null
                ],
                [
                  "42",
                  "43",
                  "639",
                  "-0,764254",
                  "Sehne::N",
                  "sinew",
                  "сухожилие",
                  "[[Anatomie]]",
                  "[[anatomy]]",
                  "[[анатомия]]",
                  "TENDON",
                  "1137",
                  "TENDON",
                  null
                ],
                [
                  "43",
                  "44",
                  "59",
                  "-2,445369",
                  "Knochen::N",
                  "bone",
                  "кость",
                  "[[Anatomie]]",
                  "[[anatomy]]",
                  "[[анатомия]]",
                  "BONE",
                  "1394",
                  "BONE",
                  null
                ],
                [
                  "44",
                  "45",
                  "265",
                  "-1,639365",
                  "Gehirn::N",
                  "brain",
                  "мозг",
                  "[[Anatomie]]",
                  "[[anatomy]]",
                  "[[анатомия]]",
                  "BRAIN",
                  "1583",
                  "BRAIN",
                  null
                ],
                [
                  "45",
                  "46",
                  "306",
                  "-1,544068",
                  "Herz::N",
                  "heart",
                  "сердце",
                  "[[Anatomie]]",
                  "[[anatomy]]",
                  "[[анатомия]]",
                  "HEART",
                  "1223",
                  "HEART",
                  null
                ],
                [
                  "46",
                  "47",
                  "554",
                  "-0,949448",
                  "Magen::N",
                  "stomach",
                  "желудок",
                  "[[Anatomie]]",
                  "[[anatomy]]",
                  "[[анатомия]]",
                  "STOMACH",
                  "819",
                  "STOMACH",
                  null
                ],
                [
                  "47",
                  "48",
                  "368",
                  "-1,394606",
                  "Leber::N",
                  "liver",
                  "печень",
                  "[[Anatomie]]",
                  "[[anatomy]]",
                  "[[анатомия]]",
                  "LIVER",
                  "1224",
                  "LIVER",
                  null
                ],
                [
                  "48",
                  "49",
                  "744",
                  "-0,506891",
                  "Atem::N",
                  "breath",
                  "дыхание",
                  "[Atmung]",
                  "[breathing]",
                  "[процесс]",
                  "BREATH",
                  "870",
                  "BREATH",
                  null
                ],
                [
                  "49",
                  "50",
                  "327",
                  "-1,486053",
                  "Hunger::N",
                  "hunger",
                  "голод",
                  "[Zustand]",
                  "[condition]",
                  "[состояние]",
                  "HUNGER",
                  "1864",
                  "HUNGER",
                  null
                ]
              ],
              "shape": {
                "columns": 13,
                "rows": 1016
              }
            },
            "text/html": [
              "<div>\n",
              "<style scoped>\n",
              "    .dataframe tbody tr th:only-of-type {\n",
              "        vertical-align: middle;\n",
              "    }\n",
              "\n",
              "    .dataframe tbody tr th {\n",
              "        vertical-align: top;\n",
              "    }\n",
              "\n",
              "    .dataframe thead th {\n",
              "        text-align: right;\n",
              "    }\n",
              "</style>\n",
              "<table border=\"1\" class=\"dataframe\">\n",
              "  <thead>\n",
              "    <tr style=\"text-align: right;\">\n",
              "      <th></th>\n",
              "      <th>number</th>\n",
              "      <th>position_in_ranking</th>\n",
              "      <th>ranking_value</th>\n",
              "      <th>id_nelex</th>\n",
              "      <th>gloss_en</th>\n",
              "      <th>gloss_ru</th>\n",
              "      <th>annotation_en</th>\n",
              "      <th>annotation_en.1</th>\n",
              "      <th>annotation_ru</th>\n",
              "      <th>concepticon</th>\n",
              "      <th>concepticon_id</th>\n",
              "      <th>concepticon_proposed</th>\n",
              "      <th>comments</th>\n",
              "    </tr>\n",
              "  </thead>\n",
              "  <tbody>\n",
              "    <tr>\n",
              "      <th>0</th>\n",
              "      <td>1</td>\n",
              "      <td>44</td>\n",
              "      <td>-2,539237</td>\n",
              "      <td>Auge::N</td>\n",
              "      <td>eye</td>\n",
              "      <td>глаз</td>\n",
              "      <td>[[Anatomie]]</td>\n",
              "      <td>[[anatomy]]</td>\n",
              "      <td>[[анатомия]]</td>\n",
              "      <td>EYE</td>\n",
              "      <td>1248</td>\n",
              "      <td>EYE</td>\n",
              "      <td>NaN</td>\n",
              "    </tr>\n",
              "    <tr>\n",
              "      <th>1</th>\n",
              "      <td>2</td>\n",
              "      <td>34</td>\n",
              "      <td>-2,649194</td>\n",
              "      <td>Ohr::N</td>\n",
              "      <td>ear</td>\n",
              "      <td>ухо</td>\n",
              "      <td>[[Anatomie]]</td>\n",
              "      <td>[[anatomy]]</td>\n",
              "      <td>[[анатомия]]</td>\n",
              "      <td>EAR</td>\n",
              "      <td>1247</td>\n",
              "      <td>EAR</td>\n",
              "      <td>NaN</td>\n",
              "    </tr>\n",
              "    <tr>\n",
              "      <th>2</th>\n",
              "      <td>3</td>\n",
              "      <td>149</td>\n",
              "      <td>-1,995463</td>\n",
              "      <td>Nase::N</td>\n",
              "      <td>nose</td>\n",
              "      <td>нос</td>\n",
              "      <td>[[Anatomie]]</td>\n",
              "      <td>[[anatomy]]</td>\n",
              "      <td>[[анатомия]]</td>\n",
              "      <td>NOSE</td>\n",
              "      <td>1221</td>\n",
              "      <td>NOSE</td>\n",
              "      <td>NaN</td>\n",
              "    </tr>\n",
              "    <tr>\n",
              "      <th>3</th>\n",
              "      <td>4</td>\n",
              "      <td>25</td>\n",
              "      <td>-2,762589</td>\n",
              "      <td>Mund::N</td>\n",
              "      <td>mouth</td>\n",
              "      <td>рот</td>\n",
              "      <td>[[Anatomie]]</td>\n",
              "      <td>[[anatomy]]</td>\n",
              "      <td>[[анатомия]]</td>\n",
              "      <td>MOUTH</td>\n",
              "      <td>674</td>\n",
              "      <td>MOUTH</td>\n",
              "      <td>NaN</td>\n",
              "    </tr>\n",
              "    <tr>\n",
              "      <th>4</th>\n",
              "      <td>5</td>\n",
              "      <td>31</td>\n",
              "      <td>-2,670705</td>\n",
              "      <td>Zahn::N</td>\n",
              "      <td>tooth</td>\n",
              "      <td>зуб</td>\n",
              "      <td>[BSP:menschlicher Schneidezahn]</td>\n",
              "      <td>[EX:human incisor]</td>\n",
              "      <td>[НАПР:человека]</td>\n",
              "      <td>TOOTH</td>\n",
              "      <td>1380</td>\n",
              "      <td>TOOTH</td>\n",
              "      <td>NaN</td>\n",
              "    </tr>\n",
              "    <tr>\n",
              "      <th>...</th>\n",
              "      <td>...</td>\n",
              "      <td>...</td>\n",
              "      <td>...</td>\n",
              "      <td>...</td>\n",
              "      <td>...</td>\n",
              "      <td>...</td>\n",
              "      <td>...</td>\n",
              "      <td>...</td>\n",
              "      <td>...</td>\n",
              "      <td>...</td>\n",
              "      <td>...</td>\n",
              "      <td>...</td>\n",
              "      <td>...</td>\n",
              "    </tr>\n",
              "    <tr>\n",
              "      <th>1011</th>\n",
              "      <td>1012</td>\n",
              "      <td>140</td>\n",
              "      <td>-2,029052</td>\n",
              "      <td>verkaufen::V</td>\n",
              "      <td>sell</td>\n",
              "      <td>продать</td>\n",
              "      <td>[BSP:Ware]</td>\n",
              "      <td>[EX:goods]</td>\n",
              "      <td>[НАПР:товар]</td>\n",
              "      <td>SELL</td>\n",
              "      <td>1571</td>\n",
              "      <td>SELL</td>\n",
              "      <td>NaN</td>\n",
              "    </tr>\n",
              "    <tr>\n",
              "      <th>1012</th>\n",
              "      <td>1013</td>\n",
              "      <td>198</td>\n",
              "      <td>-1,822012</td>\n",
              "      <td>bezahlen::V</td>\n",
              "      <td>pay for</td>\n",
              "      <td>заплатить</td>\n",
              "      <td>[BSP:Ware]</td>\n",
              "      <td>[EX:goods]</td>\n",
              "      <td>[НАПР:за товар]</td>\n",
              "      <td>NaN</td>\n",
              "      <td>0</td>\n",
              "      <td>PAY_FOR</td>\n",
              "      <td>NaN</td>\n",
              "    </tr>\n",
              "    <tr>\n",
              "      <th>1013</th>\n",
              "      <td>1014</td>\n",
              "      <td>235</td>\n",
              "      <td>-1,715766</td>\n",
              "      <td>zahlen::V</td>\n",
              "      <td>pay</td>\n",
              "      <td>платить</td>\n",
              "      <td>[BSP:im Restaurant]</td>\n",
              "      <td>[EX:in a restaurant]</td>\n",
              "      <td>[НАПР:в ресторане]</td>\n",
              "      <td>PAY</td>\n",
              "      <td>718</td>\n",
              "      <td>PAY</td>\n",
              "      <td>NaN</td>\n",
              "    </tr>\n",
              "    <tr>\n",
              "      <th>1014</th>\n",
              "      <td>1015</td>\n",
              "      <td>899</td>\n",
              "      <td>0,118183</td>\n",
              "      <td>beherrschen::V</td>\n",
              "      <td>rule</td>\n",
              "      <td>владеть</td>\n",
              "      <td>[BSP:Land]</td>\n",
              "      <td>[EX:country]</td>\n",
              "      <td>[НАПР:страной]</td>\n",
              "      <td>RULE</td>\n",
              "      <td>1846</td>\n",
              "      <td>RULE</td>\n",
              "      <td>NaN</td>\n",
              "    </tr>\n",
              "    <tr>\n",
              "      <th>1015</th>\n",
              "      <td>1016</td>\n",
              "      <td>751</td>\n",
              "      <td>-0,491453</td>\n",
              "      <td>ertragen::V</td>\n",
              "      <td>endure</td>\n",
              "      <td>вытерпеть</td>\n",
              "      <td>[BSP:Schmerz]</td>\n",
              "      <td>[EX:pain]</td>\n",
              "      <td>[выдержать, НАПР:боль]</td>\n",
              "      <td>ENDURE</td>\n",
              "      <td>833</td>\n",
              "      <td>ENDURE</td>\n",
              "      <td>NaN</td>\n",
              "    </tr>\n",
              "  </tbody>\n",
              "</table>\n",
              "<p>1016 rows × 13 columns</p>\n",
              "</div>"
            ],
            "text/plain": [
              "      number  position_in_ranking ranking_value        id_nelex gloss_en  \\\n",
              "0          1                   44     -2,539237         Auge::N      eye   \n",
              "1          2                   34     -2,649194          Ohr::N      ear   \n",
              "2          3                  149     -1,995463         Nase::N     nose   \n",
              "3          4                   25     -2,762589         Mund::N    mouth   \n",
              "4          5                   31     -2,670705         Zahn::N    tooth   \n",
              "...      ...                  ...           ...             ...      ...   \n",
              "1011    1012                  140     -2,029052    verkaufen::V     sell   \n",
              "1012    1013                  198     -1,822012     bezahlen::V  pay for   \n",
              "1013    1014                  235     -1,715766       zahlen::V      pay   \n",
              "1014    1015                  899      0,118183  beherrschen::V     rule   \n",
              "1015    1016                  751     -0,491453     ertragen::V   endure   \n",
              "\n",
              "       gloss_ru                    annotation_en       annotation_en.1  \\\n",
              "0          глаз                     [[Anatomie]]           [[anatomy]]   \n",
              "1           ухо                     [[Anatomie]]           [[anatomy]]   \n",
              "2           нос                     [[Anatomie]]           [[anatomy]]   \n",
              "3           рот                     [[Anatomie]]           [[anatomy]]   \n",
              "4           зуб  [BSP:menschlicher Schneidezahn]    [EX:human incisor]   \n",
              "...         ...                              ...                   ...   \n",
              "1011    продать                       [BSP:Ware]            [EX:goods]   \n",
              "1012  заплатить                       [BSP:Ware]            [EX:goods]   \n",
              "1013    платить              [BSP:im Restaurant]  [EX:in a restaurant]   \n",
              "1014    владеть                       [BSP:Land]          [EX:country]   \n",
              "1015  вытерпеть                    [BSP:Schmerz]             [EX:pain]   \n",
              "\n",
              "               annotation_ru concepticon  concepticon_id concepticon_proposed  \\\n",
              "0               [[анатомия]]         EYE            1248                  EYE   \n",
              "1               [[анатомия]]         EAR            1247                  EAR   \n",
              "2               [[анатомия]]        NOSE            1221                 NOSE   \n",
              "3               [[анатомия]]       MOUTH             674                MOUTH   \n",
              "4            [НАПР:человека]       TOOTH            1380                TOOTH   \n",
              "...                      ...         ...             ...                  ...   \n",
              "1011            [НАПР:товар]        SELL            1571                 SELL   \n",
              "1012         [НАПР:за товар]         NaN               0              PAY_FOR   \n",
              "1013      [НАПР:в ресторане]         PAY             718                  PAY   \n",
              "1014          [НАПР:страной]        RULE            1846                 RULE   \n",
              "1015  [выдержать, НАПР:боль]      ENDURE             833               ENDURE   \n",
              "\n",
              "     comments  \n",
              "0         NaN  \n",
              "1         NaN  \n",
              "2         NaN  \n",
              "3         NaN  \n",
              "4         NaN  \n",
              "...       ...  \n",
              "1011      NaN  \n",
              "1012      NaN  \n",
              "1013      NaN  \n",
              "1014      NaN  \n",
              "1015      NaN  \n",
              "\n",
              "[1016 rows x 13 columns]"
            ]
          },
          "metadata": {},
          "output_type": "display_data"
        }
      ],
      "source": [
        "concepts=pd.read_csv(concepts_path)\n",
        "display(concepts)"
      ]
    },
    {
      "cell_type": "markdown",
      "metadata": {
        "id": "rpwbBHZiv2dK"
      },
      "source": [
        "**Question:** Describe the meaning of the `id_nelex`, `gloss_en`, and `position_in_ranking` columns of the data.\n",
        "\n",
        "**A4: put your answer here (maximum 1 sentence per column)**"
      ]
    },
    {
      "cell_type": "markdown",
      "metadata": {
        "id": "9Hz1qeNbp5h0"
      },
      "source": [
        "# Section 2"
      ]
    },
    {
      "cell_type": "markdown",
      "metadata": {
        "id": "7c3-xHxxhb9f"
      },
      "source": [
        "## Question 5 (2 points)"
      ]
    },
    {
      "cell_type": "markdown",
      "metadata": {
        "id": "J4Njm0Taptwe"
      },
      "source": [
        "It will be useful to merge all of the meta-information into the main wordforms dataframe."
      ]
    },
    {
      "cell_type": "code",
      "execution_count": null,
      "metadata": {
        "id": "Fztpd5H4P733"
      },
      "outputs": [],
      "source": [
        "# Question-a: rename the appropriate columns in the languages and concepts dataframes to make this merge possible.\n",
        "# your code here\n",
        "\n",
        "# Question-b: Use the pd.merge function to merge the three dataframes into one.\n",
        "# your code here\n",
        "\n",
        "display(wordforms)"
      ]
    },
    {
      "cell_type": "markdown",
      "metadata": {
        "id": "rtbzyBtBhjOV"
      },
      "source": [
        "## Question 6 (2 points)"
      ]
    },
    {
      "cell_type": "markdown",
      "metadata": {
        "id": "ZWS-b5Oaj7IA"
      },
      "source": [
        "In this problem set, we will make use of the `lingpy` package of tools for historical linguistics. You can find more information on this [here](ttps://lingpy.org/index.html). We'll start by installing the package."
      ]
    },
    {
      "cell_type": "code",
      "execution_count": null,
      "metadata": {
        "id": "5_X1Ls_hkDlw"
      },
      "outputs": [],
      "source": [
        "!pip install lingpy"
      ]
    },
    {
      "cell_type": "markdown",
      "metadata": {
        "id": "G6lw4vrf4rSF"
      },
      "source": [
        "In order to make our computations below more manageable, we will focus on the **Indo-European** languages which you can read more about [here](https://en.wikipedia.org/wiki/Indo-European_languages). We will also focus just on the top 20 concepts as determined by their rank. Please do not make any changes to the `wordforms` dataframe, and instead, create a new dataframe called `wordforms_20`."
      ]
    },
    {
      "cell_type": "code",
      "execution_count": null,
      "metadata": {
        "id": "-n6vi-YA5iwL"
      },
      "outputs": [],
      "source": [
        "# Question-a: Filter out the non-Indo-European languages from the dataframes\n",
        "# your code here\n",
        "\n",
        "# Question-b: Filter the concepts to include those less than or equal to rank 20 in the dataframe.\n",
        "# your code here\n",
        "\n",
        "display(wordforms_20)"
      ]
    },
    {
      "cell_type": "markdown",
      "metadata": {
        "id": "-_A1rzbkqY5n"
      },
      "source": [
        "# Section 3"
      ]
    },
    {
      "cell_type": "markdown",
      "metadata": {
        "id": "ReCYobxCh6IP"
      },
      "source": [
        "## Question 7 (6 points)"
      ]
    },
    {
      "cell_type": "markdown",
      "metadata": {
        "id": "tb68zqmAkc7n"
      },
      "source": [
        "Our goal is to use agglomerative clustering to try to reconstruct the tree for the Indo-European languages. You can find a reference tree (for families) [here](https://en.wikipedia.org/wiki/Indo-European_languages#/media/File:IndoEuropeanLanguageFamilyRelationsChart.jpg).\n",
        "\n",
        "In order to do this, we will need to construct a  matrix of similarities between the languages, called a confusion matrix.\n",
        "\n",
        "We will compute the (normalized) levenshtein distance between the strings for each concept for each pair of languages. For instance, we will compute the normalized levenshtein distance between the words for Wasser::N (water in English) for German and English and then similarily for all 19 other concepts. If there are multiple words for the same concept, take the average across all pair possibilities. We will then average these values (i.e., average across all concepts) to find the similarity between German and English. We will do this for all pairs of languages to create a list of lists representing the confusion matrix.\n",
        "\n",
        "Note that running your code will take a few minutes.\n",
        "\n",
        "**Hint**: Make use of the `lp.align.pairwise.edit_dist` function from lingpy."
      ]
    },
    {
      "cell_type": "code",
      "execution_count": null,
      "metadata": {
        "id": "0CohUtqFkiJV"
      },
      "outputs": [],
      "source": [
        "import lingpy as lp\n",
        "import numpy as np\n",
        "\n",
        "# Question: fill the confusion matrix on the \"IPA\" fields for each language.\n",
        "\n",
        "# Initialize confusion matrix\n",
        "language_list = None # Initialize list of languages in the current modified wordforms dataset\n",
        "confusion = [[0 for j in range(len(language_list))] for i in range(len(language_list))]\n",
        "\n",
        "# your code here; some code to get you started:\n",
        "for i, language1 in ...\n",
        "  for j, language2 in ...\n",
        "    ...\n",
        "    for concept in ...\n",
        "      ...\n",
        "    confusion[i][j]=..."
      ]
    },
    {
      "cell_type": "markdown",
      "metadata": {
        "id": "Drf6fCN4F77y"
      },
      "source": [
        "**After running this cell, clear the *output* of the above cell (by clicking on the cross at top left of the output part) so that it doesn't clutter the pdf.**"
      ]
    },
    {
      "cell_type": "markdown",
      "metadata": {
        "id": "vh0vO2LuiKZF"
      },
      "source": [
        "## Question 8 (2 points)"
      ]
    },
    {
      "cell_type": "markdown",
      "metadata": {
        "id": "8VEsX9X9kpkZ"
      },
      "source": [
        "Now that we have computed a matrix of similarities, we can use clustering algorithms to try to build phylogenetic trees representing the languages historical relationships. First, let's use the `lp.algorithm.clustering.flat_cluster` function from `lingpy` to derive a flat clustering of languages.\n"
      ]
    },
    {
      "cell_type": "code",
      "execution_count": null,
      "metadata": {
        "id": "kuOZmR85kqAf"
      },
      "outputs": [],
      "source": [
        "cluster = lp.algorithm.clustering.flat_cluster('upgma', 0.6, confusion, language_list)\n",
        "print(cluster)"
      ]
    },
    {
      "cell_type": "markdown",
      "metadata": {
        "id": "780yD_sq9Xx_"
      },
      "source": [
        "**Question:** Do you recognize any of the clusters of languages? Are there any noteworthy errors in this clustering?  (You may first need to learn a bit about Indo-European languages.)\n",
        "\n",
        "**A8: put your answer here (maximum 3 sentences)**\n"
      ]
    },
    {
      "cell_type": "markdown",
      "metadata": {
        "id": "wRsc8ZLlrHag"
      },
      "source": [
        "# Section 4"
      ]
    },
    {
      "cell_type": "markdown",
      "metadata": {
        "id": "DGnlVTlPiQiR"
      },
      "source": [
        "## Question 9 (2 points)"
      ]
    },
    {
      "cell_type": "markdown",
      "metadata": {
        "id": "mxx3zF-l-DyJ"
      },
      "source": [
        "Now we will build our own dendrogram using the clustering algorithms available in [`scipy`](https://docs.scipy.org/doc/scipy/reference/cluster.hierarchy.html). You can read in particular about the [`linkage`](https://docs.scipy.org/doc/scipy/reference/generated/scipy.cluster.hierarchy.linkage.html) function and the [`dendrogram`](https://docs.scipy.org/doc/scipy/reference/generated/scipy.cluster.hierarchy.dendrogram.html) function."
      ]
    },
    {
      "cell_type": "code",
      "execution_count": null,
      "metadata": {
        "id": "5wDYHMB7g2Vw"
      },
      "outputs": [],
      "source": [
        "from scipy.cluster.hierarchy import dendrogram, linkage\n",
        "from sklearn.metrics import v_measure_score\n",
        "import matplotlib.pyplot as plt\n",
        "\n",
        "# Question: use the linkage function with the average linkage method to compute the clustering.\n",
        "\n",
        "# your code here; some code to get you started:\n",
        "linked = ...\n",
        "\n",
        "\n",
        "# Plot the results using dendrogram\n",
        "def llf(id): return language_list[id]\n",
        "plt.figure(figsize=(12, 8))\n",
        "dendrogram(linked,\n",
        "           p=100,\n",
        "           truncate_mode=\"level\",\n",
        "           orientation='top',\n",
        "           distance_sort='descending',\n",
        "           show_leaf_counts=False,\n",
        "           leaf_label_func=llf)\n",
        "\n",
        "plt.show()"
      ]
    },
    {
      "cell_type": "markdown",
      "metadata": {
        "id": "883fd2ADiUM7"
      },
      "source": [
        "## Question 10 (2 points)"
      ]
    },
    {
      "cell_type": "markdown",
      "metadata": {
        "id": "_XKrzEvlAgO5"
      },
      "source": [
        "**Question:** Do you recognize any of the clusters of languages at any of the levels? Are there any noteworthy errors in this clustering?\n",
        "\n",
        "**A10: put your answer here (maximum 3 sentences)**"
      ]
    },
    {
      "cell_type": "markdown",
      "metadata": {
        "id": "WLrjiJQdxQzP"
      },
      "source": [
        "# Section 5"
      ]
    },
    {
      "cell_type": "markdown",
      "metadata": {
        "id": "Ym3Ggn3Pi0Tn"
      },
      "source": [
        "## Question 11 (4 points)\n",
        "(2 points for code, 2 points for text answer)"
      ]
    },
    {
      "cell_type": "markdown",
      "metadata": {
        "id": "bYY9y-usxGp1"
      },
      "source": [
        "**Question-a:** Try two of the other linkage methods."
      ]
    },
    {
      "cell_type": "code",
      "execution_count": null,
      "metadata": {
        "id": "-Qbfumh-Dpsj"
      },
      "outputs": [],
      "source": [
        "# Question-a: other method 1\n",
        "# your code here"
      ]
    },
    {
      "cell_type": "code",
      "execution_count": null,
      "metadata": {
        "id": "2W43rvcnDyaF"
      },
      "outputs": [],
      "source": [
        "# Question-a: other method 2\n",
        "# your code here"
      ]
    },
    {
      "cell_type": "markdown",
      "metadata": {
        "id": "jvqZwHbDD2Gq"
      },
      "source": [
        "**Question-b:** Describe how they change the results.\n",
        "\n",
        "**A11: Put your answer here (maximum 4 sentences). Include all the code in separate cells.**"
      ]
    },
    {
      "cell_type": "markdown",
      "metadata": {
        "id": "MoWAzvBqi7Sa"
      },
      "source": [
        "## Question 12 (4 points)\n",
        "(2 points for code, 2 points for text answer)"
      ]
    },
    {
      "cell_type": "markdown",
      "metadata": {
        "id": "IP-dyA0yi56c"
      },
      "source": [
        "**Question-a:** Try increasing the number of concepts we use to compute our confusion matrix to be **50**.\n",
        "\n",
        "**Note:** Include all the code in separate cells like below. Make sure to define new variables so the previous variables (e.g., `wordforms_20`, `language_list`, `confusion` matrix, etc.) are not re-assigned."
      ]
    },
    {
      "cell_type": "code",
      "execution_count": null,
      "metadata": {
        "id": "g7xZpT19Eek8"
      },
      "outputs": [],
      "source": [
        "# Question-a\n",
        "# your code here\n",
        "\n",
        "wordforms_50 = ..."
      ]
    },
    {
      "cell_type": "markdown",
      "metadata": {
        "id": "UQy-kL6CEiaJ"
      },
      "source": [
        "**Question-b:** Does increasing from top 20 concepts to top 50 change the results?\n",
        "\n",
        "**A12: Put your answer here (maximum 3 sentences).**"
      ]
    },
    {
      "cell_type": "markdown",
      "metadata": {
        "id": "m7nBvoFDkruj"
      },
      "source": [
        "# Section 6\n",
        "\n",
        "Let's evaluate the quality of the clustering from Question 8, relative to one of the class labels we have: `subfamily`. In other words: the clustering we implement in Question 8 gives us some clusters of languages, that you may recognize as relating to language families/subfamilies. Given the ground truth we have in the `subfamily` labels, how well does our clustering do?"
      ]
    },
    {
      "cell_type": "markdown",
      "metadata": {
        "id": "pOLjTjhCk9oH"
      },
      "source": [
        "## Question 13 (6 points)\n",
        "(4 points for code, 2 points for text answer)\n",
        "\n",
        "Write code to compute the V measure score for this clustering relative to `subfamily`, then print them. Note that when using the `v_measure_score` function, you DO NOT need to standardize and align the cluster names/labels. (For example, it's okay if your 'true' cluster labels are encoded as strings, and your 'predicted' cluster labels are encoded as integers.)"
      ]
    },
    {
      "cell_type": "code",
      "execution_count": null,
      "metadata": {
        "id": "ro643P73lSZy"
      },
      "outputs": [],
      "source": [
        "# Question-a\n",
        "# save the V measure score as v_measure_subfamily\n",
        "# Hint: computing subfamily may require more than a couple lines of code.\n",
        "\n",
        "from sklearn.metrics import v_measure_score\n",
        "# your code here\n",
        "\n",
        "\n",
        "print(v_measure_subfamily)"
      ]
    },
    {
      "cell_type": "markdown",
      "metadata": {
        "id": "xe4-5r9OGjwm"
      },
      "source": [
        "**Question-b:** Intrepret the `v_measure_subfamily` you printed above. Was your clustering in Question 8 good enough?\n",
        "\n",
        "**A13: Put your answer here (maximum 2 sentences).**"
      ]
    },
    {
      "cell_type": "markdown",
      "metadata": {
        "id": "cuJa4OsM3eRn"
      },
      "source": [
        "# Section 7\n",
        "\n",
        "In the remainder of this assignment, you'll use vowel duration and formant data like **the Classification and Clustering notebooks (MyCourses -> Content -> Code Workbooks)**---except from a mystery language, where the labels are unknown.  \n",
        "\n",
        "Our data file, `mystery_vowels.csv`, gives duration, F1, F2, F3, and F4 values for vowel measurements from this language.  Note the lack of `speaker` and `vowel` columns: you don't know how many speakers this data came from and how many vowel categories there are.\n",
        "\n",
        "Your goal is to determine $k$, the number of vowel categories.\n",
        "\n",
        "Copy the data to your Drive folder from [here](https://drive.google.com/file/d/1lL62Su-GGSNZTzvp-7MgWLmZQXVBvPhm/view?usp=sharing).\n"
      ]
    },
    {
      "cell_type": "markdown",
      "metadata": {},
      "source": [
        "## Mounting Files"
      ]
    },
    {
      "cell_type": "code",
      "execution_count": 7,
      "metadata": {
        "colab": {
          "base_uri": "https://localhost:8080/"
        },
        "id": "-7TbvR0T48Yv",
        "outputId": "0846f1ca-e799-44dd-cf4b-46c3a66b40b2"
      },
      "outputs": [
        {
          "name": "stdout",
          "output_type": "stream",
          "text": [
            "Running in local environment\n"
          ]
        }
      ],
      "source": [
        "mystery_vowels_path = 'a6_data/mystery_vowels.csv'\n",
        "\n",
        "try:\n",
        "    from google.colab import drive\n",
        "    mystery_vowels_path = \"/content/drive/My Drive/NaturalLanguageProcessing/a6_data/mystery_vowels.csv\"\n",
        "except ModuleNotFoundError:\n",
        "    print(\"Running in local environment\")"
      ]
    },
    {
      "cell_type": "markdown",
      "metadata": {
        "id": "gChZ3wAT5i7c"
      },
      "source": [
        "Load the data:"
      ]
    },
    {
      "cell_type": "code",
      "execution_count": null,
      "metadata": {
        "colab": {
          "base_uri": "https://localhost:8080/",
          "height": 423
        },
        "id": "j-CIdEET5iQd",
        "outputId": "1adc09c3-790a-465b-c9b6-d6ce48e83216"
      },
      "outputs": [
        {
          "data": {
            "application/vnd.microsoft.datawrangler.viewer.v0+json": {
              "columns": [
                {
                  "name": "index",
                  "rawType": "int64",
                  "type": "integer"
                },
                {
                  "name": "dur",
                  "rawType": "float64",
                  "type": "float"
                },
                {
                  "name": "F1",
                  "rawType": "float64",
                  "type": "float"
                },
                {
                  "name": "F2",
                  "rawType": "float64",
                  "type": "float"
                },
                {
                  "name": "F3",
                  "rawType": "float64",
                  "type": "float"
                },
                {
                  "name": "F4",
                  "rawType": "float64",
                  "type": "float"
                }
              ],
              "conversionMethod": "pd.DataFrame",
              "ref": "4e081ef4-7d9e-43c4-85ab-9c03e24fdaa4",
              "rows": [
                [
                  "0",
                  "72.8421052631579",
                  "560.78947368421",
                  "1308.05263157895",
                  "2174.78947368421",
                  "3430.15789473684"
                ],
                [
                  "1",
                  "103.264150943396",
                  "637.358490566038",
                  "1313.09433962264",
                  "2145.32075471698",
                  "3398.56603773585"
                ],
                [
                  "2",
                  "154.130434782609",
                  "514.652173913043",
                  "1631.21739130435",
                  "2394.65217391304",
                  "3384.17391304348"
                ],
                [
                  "3",
                  "153.190476190476",
                  "315.857142857143",
                  "2042.19047619048",
                  "2614.71428571429",
                  "3398.85714285714"
                ],
                [
                  "4",
                  "99.7333333333333",
                  "539.533333333333",
                  "1031.46666666667",
                  "2047.0",
                  "3221.46666666667"
                ],
                [
                  "5",
                  "53.4545454545455",
                  "383.181818181818",
                  "1081.81818181818",
                  "2294.27272727273",
                  "3382.72727272727"
                ],
                [
                  "6",
                  "76.25",
                  "495.611111111111",
                  "1462.52777777778",
                  "2344.44444444444",
                  "3343.16666666667"
                ],
                [
                  "7",
                  "122.515625",
                  "616.71875",
                  "1354.453125",
                  "2285.03125",
                  "3311.890625"
                ],
                [
                  "8",
                  "134.0",
                  "526.464285714286",
                  "1603.64285714286",
                  "2421.64285714286",
                  "3458.39285714286"
                ],
                [
                  "9",
                  "121.684210526316",
                  "339.947368421053",
                  "2037.57894736842",
                  "2666.56140350877",
                  "3444.75438596491"
                ],
                [
                  "10",
                  "162.333333333333",
                  "551.916666666667",
                  "1057.91666666667",
                  "2304.83333333333",
                  "3230.58333333333"
                ],
                [
                  "11",
                  "63.8888888888889",
                  "384.5",
                  "1226.11111111111",
                  "2387.44444444444",
                  "3344.83333333333"
                ],
                [
                  "12",
                  "77.2285714285714",
                  "466.657142857143",
                  "1476.57142857143",
                  "2459.2",
                  "3488.17142857143"
                ],
                [
                  "13",
                  "88.1797752808989",
                  "656.651685393258",
                  "1429.76404494382",
                  "2342.13483146067",
                  "3617.30337078652"
                ],
                [
                  "14",
                  "72.4117647058823",
                  "470.176470588235",
                  "1694.0",
                  "2434.5",
                  "3504.26470588235"
                ],
                [
                  "15",
                  "80.84",
                  "300.78",
                  "1991.82",
                  "2630.14",
                  "3438.56"
                ],
                [
                  "16",
                  "122.272727272727",
                  "513.045454545455",
                  "1085.54545454545",
                  "2359.18181818182",
                  "3276.27272727273"
                ],
                [
                  "17",
                  "79.0769230769231",
                  "356.923076923077",
                  "1057.46153846154",
                  "2435.84615384615",
                  "3339.92307692308"
                ],
                [
                  "18",
                  "64.4761904761905",
                  "435.047619047619",
                  "1411.40476190476",
                  "2501.7619047619",
                  "3494.54761904762"
                ],
                [
                  "19",
                  "101.197530864198",
                  "605.987654320988",
                  "1294.16049382716",
                  "2343.8024691358",
                  "3529.82716049383"
                ],
                [
                  "20",
                  "144.1",
                  "504.466666666667",
                  "1586.0",
                  "2445.46666666667",
                  "3366.4"
                ],
                [
                  "21",
                  "98.6",
                  "325.226666666667",
                  "1954.29333333333",
                  "2532.81333333333",
                  "3444.6"
                ],
                [
                  "22",
                  "99.8",
                  "512.56",
                  "984.68",
                  "2366.32",
                  "3123.12"
                ],
                [
                  "23",
                  "55.4666666666667",
                  "379.666666666667",
                  "1073.4",
                  "2453.26666666667",
                  "3267.0"
                ],
                [
                  "24",
                  "68.8157894736842",
                  "476.552631578947",
                  "1423.52631578947",
                  "2495.36842105263",
                  "3579.57894736842"
                ],
                [
                  "25",
                  "146.0",
                  "671.322580645161",
                  "1343.46774193548",
                  "2359.72580645161",
                  "3528.06451612903"
                ],
                [
                  "26",
                  "129.571428571429",
                  "535.357142857143",
                  "1694.0",
                  "2540.39285714286",
                  "3742.35714285714"
                ],
                [
                  "27",
                  "158.285714285714",
                  "303.742857142857",
                  "2077.77142857143",
                  "2608.54285714286",
                  "3591.0"
                ],
                [
                  "28",
                  "121.631578947368",
                  "530.421052631579",
                  "1063.57894736842",
                  "2361.42105263158",
                  "3474.05263157895"
                ],
                [
                  "29",
                  "102.266666666667",
                  "351.0",
                  "1178.46666666667",
                  "2438.73333333333",
                  "3533.86666666667"
                ],
                [
                  "30",
                  "73.1818181818182",
                  "463.606060606061",
                  "1491.09090909091",
                  "2471.42424242424",
                  "3540.33333333333"
                ],
                [
                  "31",
                  "102.565217391304",
                  "624.985507246377",
                  "1355.86956521739",
                  "2238.30434782609",
                  "3451.91304347826"
                ],
                [
                  "32",
                  "191.909090909091",
                  "479.954545454545",
                  "1746.77272727273",
                  "2502.0",
                  "3612.59090909091"
                ],
                [
                  "33",
                  "121.378378378378",
                  "300.405405405405",
                  "2080.83783783784",
                  "2634.94594594595",
                  "3638.67567567568"
                ],
                [
                  "34",
                  "106.619047619048",
                  "540.142857142857",
                  "1072.61904761905",
                  "2281.47619047619",
                  "3292.80952380952"
                ],
                [
                  "35",
                  "68.7692307692308",
                  "362.769230769231",
                  "1059.61538461538",
                  "2353.15384615385",
                  "3434.84615384615"
                ],
                [
                  "36",
                  "61.8",
                  "569.657142857143",
                  "1513.97142857143",
                  "2693.94285714286",
                  "3663.62857142857"
                ],
                [
                  "37",
                  "92.6145833333333",
                  "669.708333333333",
                  "1496.1875",
                  "2637.86458333333",
                  "3672.625"
                ],
                [
                  "38",
                  "108.448275862069",
                  "577.068965517241",
                  "1715.10344827586",
                  "2631.51724137931",
                  "3517.06896551724"
                ],
                [
                  "39",
                  "88.9166666666667",
                  "389.229166666667",
                  "2032.16666666667",
                  "2778.8125",
                  "3678.5625"
                ],
                [
                  "40",
                  "89.72",
                  "579.04",
                  "1124.24",
                  "2810.84",
                  "3512.24"
                ],
                [
                  "41",
                  "69.2222222222222",
                  "427.222222222222",
                  "1104.0",
                  "2736.77777777778",
                  "3284.27777777778"
                ],
                [
                  "42",
                  "57.8214285714286",
                  "555.857142857143",
                  "1431.07142857143",
                  "2693.85714285714",
                  "3643.17857142857"
                ],
                [
                  "43",
                  "81.6941176470588",
                  "672.294117647059",
                  "1451.48235294118",
                  "2784.71764705882",
                  "3652.96470588235"
                ],
                [
                  "44",
                  "94.9333333333333",
                  "571.155555555556",
                  "1707.73333333333",
                  "2766.48888888889",
                  "3566.48888888889"
                ],
                [
                  "45",
                  "89.4324324324324",
                  "375.108108108108",
                  "1940.54054054054",
                  "2706.10810810811",
                  "3604.2972972973"
                ],
                [
                  "46",
                  "110.409090909091",
                  "557.727272727273",
                  "1097.13636363636",
                  "2895.90909090909",
                  "3453.45454545455"
                ],
                [
                  "47",
                  "50.1111111111111",
                  "434.444444444444",
                  "1185.0",
                  "2474.55555555556",
                  "3352.0"
                ],
                [
                  "48",
                  "63.3",
                  "507.833333333333",
                  "1401.56666666667",
                  "2505.96666666667",
                  "3569.13333333333"
                ],
                [
                  "49",
                  "90.3444444444444",
                  "606.766666666667",
                  "1369.6",
                  "2332.58888888889",
                  "3599.21111111111"
                ]
              ],
              "shape": {
                "columns": 5,
                "rows": 120
              }
            },
            "text/html": [
              "<div>\n",
              "<style scoped>\n",
              "    .dataframe tbody tr th:only-of-type {\n",
              "        vertical-align: middle;\n",
              "    }\n",
              "\n",
              "    .dataframe tbody tr th {\n",
              "        vertical-align: top;\n",
              "    }\n",
              "\n",
              "    .dataframe thead th {\n",
              "        text-align: right;\n",
              "    }\n",
              "</style>\n",
              "<table border=\"1\" class=\"dataframe\">\n",
              "  <thead>\n",
              "    <tr style=\"text-align: right;\">\n",
              "      <th></th>\n",
              "      <th>dur</th>\n",
              "      <th>F1</th>\n",
              "      <th>F2</th>\n",
              "      <th>F3</th>\n",
              "      <th>F4</th>\n",
              "    </tr>\n",
              "  </thead>\n",
              "  <tbody>\n",
              "    <tr>\n",
              "      <th>0</th>\n",
              "      <td>72.842105</td>\n",
              "      <td>560.789474</td>\n",
              "      <td>1308.052632</td>\n",
              "      <td>2174.789474</td>\n",
              "      <td>3430.157895</td>\n",
              "    </tr>\n",
              "    <tr>\n",
              "      <th>1</th>\n",
              "      <td>103.264151</td>\n",
              "      <td>637.358491</td>\n",
              "      <td>1313.094340</td>\n",
              "      <td>2145.320755</td>\n",
              "      <td>3398.566038</td>\n",
              "    </tr>\n",
              "    <tr>\n",
              "      <th>2</th>\n",
              "      <td>154.130435</td>\n",
              "      <td>514.652174</td>\n",
              "      <td>1631.217391</td>\n",
              "      <td>2394.652174</td>\n",
              "      <td>3384.173913</td>\n",
              "    </tr>\n",
              "    <tr>\n",
              "      <th>3</th>\n",
              "      <td>153.190476</td>\n",
              "      <td>315.857143</td>\n",
              "      <td>2042.190476</td>\n",
              "      <td>2614.714286</td>\n",
              "      <td>3398.857143</td>\n",
              "    </tr>\n",
              "    <tr>\n",
              "      <th>4</th>\n",
              "      <td>99.733333</td>\n",
              "      <td>539.533333</td>\n",
              "      <td>1031.466667</td>\n",
              "      <td>2047.000000</td>\n",
              "      <td>3221.466667</td>\n",
              "    </tr>\n",
              "    <tr>\n",
              "      <th>...</th>\n",
              "      <td>...</td>\n",
              "      <td>...</td>\n",
              "      <td>...</td>\n",
              "      <td>...</td>\n",
              "      <td>...</td>\n",
              "    </tr>\n",
              "    <tr>\n",
              "      <th>115</th>\n",
              "      <td>91.670213</td>\n",
              "      <td>621.234043</td>\n",
              "      <td>1373.117021</td>\n",
              "      <td>2472.691489</td>\n",
              "      <td>3409.840426</td>\n",
              "    </tr>\n",
              "    <tr>\n",
              "      <th>116</th>\n",
              "      <td>80.571429</td>\n",
              "      <td>527.047619</td>\n",
              "      <td>1755.571429</td>\n",
              "      <td>2605.095238</td>\n",
              "      <td>3500.119048</td>\n",
              "    </tr>\n",
              "    <tr>\n",
              "      <th>117</th>\n",
              "      <td>94.387097</td>\n",
              "      <td>374.048387</td>\n",
              "      <td>2029.306452</td>\n",
              "      <td>2685.483871</td>\n",
              "      <td>3479.080645</td>\n",
              "    </tr>\n",
              "    <tr>\n",
              "      <th>118</th>\n",
              "      <td>97.612903</td>\n",
              "      <td>518.838710</td>\n",
              "      <td>1071.129032</td>\n",
              "      <td>2600.193548</td>\n",
              "      <td>3356.806452</td>\n",
              "    </tr>\n",
              "    <tr>\n",
              "      <th>119</th>\n",
              "      <td>62.034483</td>\n",
              "      <td>378.793103</td>\n",
              "      <td>1053.758621</td>\n",
              "      <td>2668.931034</td>\n",
              "      <td>3407.758621</td>\n",
              "    </tr>\n",
              "  </tbody>\n",
              "</table>\n",
              "<p>120 rows × 5 columns</p>\n",
              "</div>"
            ],
            "text/plain": [
              "            dur          F1           F2           F3           F4\n",
              "0     72.842105  560.789474  1308.052632  2174.789474  3430.157895\n",
              "1    103.264151  637.358491  1313.094340  2145.320755  3398.566038\n",
              "2    154.130435  514.652174  1631.217391  2394.652174  3384.173913\n",
              "3    153.190476  315.857143  2042.190476  2614.714286  3398.857143\n",
              "4     99.733333  539.533333  1031.466667  2047.000000  3221.466667\n",
              "..          ...         ...          ...          ...          ...\n",
              "115   91.670213  621.234043  1373.117021  2472.691489  3409.840426\n",
              "116   80.571429  527.047619  1755.571429  2605.095238  3500.119048\n",
              "117   94.387097  374.048387  2029.306452  2685.483871  3479.080645\n",
              "118   97.612903  518.838710  1071.129032  2600.193548  3356.806452\n",
              "119   62.034483  378.793103  1053.758621  2668.931034  3407.758621\n",
              "\n",
              "[120 rows x 5 columns]"
            ]
          },
          "metadata": {},
          "output_type": "display_data"
        }
      ],
      "source": [
        "import pandas as pd\n",
        "mystery_vowels = pd.read_csv(mystery_vowels_path)\n",
        "display(mystery_vowels)\n"
      ]
    },
    {
      "cell_type": "markdown",
      "metadata": {
        "id": "gwD-H7kV8uFu"
      },
      "source": [
        "We will call this data `X`, just for consistency with our other CoLab notebooks."
      ]
    },
    {
      "cell_type": "code",
      "execution_count": null,
      "metadata": {
        "id": "SRlbeJc382-t"
      },
      "outputs": [],
      "source": [
        "X = mystery_vowels"
      ]
    },
    {
      "cell_type": "markdown",
      "metadata": {
        "id": "bkRNci2urg8v"
      },
      "source": [
        "Plot the data:  "
      ]
    },
    {
      "cell_type": "code",
      "execution_count": null,
      "metadata": {
        "colab": {
          "base_uri": "https://localhost:8080/",
          "height": 1000
        },
        "id": "5tXpvYcVrp87",
        "outputId": "8235c3cc-946b-433c-ce5a-8ea60b81f795"
      },
      "outputs": [
        {
          "data": {
            "text/plain": [
              "<seaborn.axisgrid.PairGrid at 0x7f3442078a10>"
            ]
          },
          "execution_count": 19,
          "metadata": {},
          "output_type": "execute_result"
        },
        {
          "data": {
            "image/png": "[encoded data removed]",
            "text/plain": [
              "<Figure size 1250x1250 with 30 Axes>"
            ]
          },
          "metadata": {},
          "output_type": "display_data"
        }
      ],
      "source": [
        "import seaborn as sns; sns.set()\n",
        "sns.pairplot(X, vars=['dur', 'F1', 'F2','F3','F4'])"
      ]
    },
    {
      "cell_type": "markdown",
      "metadata": {
        "id": "pwn0w7IU6rtT"
      },
      "source": [
        "Note that we don't color by `vowel` label, unlike the English vowels data, because we don't know what vowel each token correpsonds to."
      ]
    },
    {
      "cell_type": "markdown",
      "metadata": {
        "id": "UBaOp9dT5Mrz"
      },
      "source": [
        "## Question 14 (2 points)\n",
        "\n",
        "Choose two variables (= a diagonal panel) or pairs of variables (= an off-diagonal panel) where the data looks _most_ separated into clusters.  What two panels did you choose, and what values of $k$ do you guess?\n",
        "\n",
        "**A14: put your answer here as a list with two bullet points (maximum 1 sentence per bullet point)**\n"
      ]
    },
    {
      "cell_type": "markdown",
      "metadata": {
        "id": "SLJ-5w6e9uaG"
      },
      "source": [
        "## Question 15 (2 points)\n",
        "\n",
        "When working with the English vowel data, we got the best performance by normalizing each column of `X` in a specific way.  Explain why it isn't possible to perform this normalization for our current dataset.\n",
        "\n",
        "**A15: put your answer here (maximum 1 sentence )**"
      ]
    },
    {
      "cell_type": "markdown",
      "metadata": {
        "id": "lSPjxqo971q7"
      },
      "source": [
        "# Section 8\n",
        "\n",
        "We will try two methods for determining the number of categories: $k$-means and GMM clustering.   \n",
        "\n",
        "**Notes for the remainder of this assignment**:\n",
        "\n",
        "* Every time you run $k$-means or GMM clustering, you should use the arguments `n_init = 10` and `random_state = 42`.  \n",
        "  * These values make sure that your clustering finds the global minimum, and that we'll get the same \"random\" value for grading purposes.\n",
        "\n",
        "* Any method you use should not divide the data (i.e. into train/test or \"folds\" for cross-validation): we are training and testing on the same data.\n",
        "\n",
        "  * This makes the code maximally parallel to the Classification CoLab notebook.\n",
        "\n"
      ]
    },
    {
      "cell_type": "markdown",
      "metadata": {
        "id": "LGlPKFlr8YZI"
      },
      "source": [
        "## Question 16 (2 points)\n",
        "\n",
        "As a warm-up, let's do $k$-means clustering with the value of $k$ that seems most likely to you from Q14.  \n",
        "\n",
        "Define a variable  `k_q14`which is set to your guess for $k$.\n",
        "\n",
        "Then:\n",
        "\n",
        "* Perform $k$-means clustering using this $k$, and save the result as `kmeans_q16`.\n",
        "* Make a vector `y_kmeans_q16` of the category labels predicted by this clustering."
      ]
    },
    {
      "cell_type": "code",
      "execution_count": null,
      "metadata": {
        "id": "wv0434PM8Xc0"
      },
      "outputs": [],
      "source": [
        "# Question\n",
        "# Make sure to use the arguments `n_init = 10` and `random_state = 42` for clustering\n",
        "\n",
        "# your code here\n",
        "\n",
        "print(y_kmeans_q16)"
      ]
    },
    {
      "cell_type": "markdown",
      "metadata": {
        "id": "WiyQnaUO_i1z"
      },
      "source": [
        "## Question 17 (3 points)\n",
        "\n",
        "Make a 1x2 array of F1/F2 plots showing:\n",
        "\n",
        "* Each point, colored by its value of `y_kmeans_q16` (the predicted category label) (left plot)\n",
        "* A Voronoi diagram showing the centroid of each cluster and the boundaries between clusters  (right plot)"
      ]
    },
    {
      "cell_type": "code",
      "execution_count": null,
      "metadata": {
        "id": "VpsVsUM1AfWd"
      },
      "outputs": [],
      "source": [
        "# Question\n",
        "\n",
        "# your code here\n",
        "\n",
        "plt.show()"
      ]
    },
    {
      "cell_type": "markdown",
      "metadata": {
        "id": "A-lvlEMmAhC7"
      },
      "source": [
        "These plots should be legible, as discussed for Homework 5."
      ]
    },
    {
      "cell_type": "markdown",
      "metadata": {
        "id": "KLNSqY5qApVt"
      },
      "source": [
        "## Question 18 (2 points)\n",
        "\n",
        "For the purposes of this homework, suppose that possible values of $k$ are 3--15.  The vast majority of human languages have a number of vowel categories in this range.\n",
        "\n",
        "To determine the best value of $k$, we perform Silhouette analysis.  First, write code resulting in a dictionary `silhouette_scores` such that:\n",
        "\n",
        "* `silhouette_scores[3]` is the mean Silhouette coefficient across all observations for the $k$-means clustering with $k = 3$\n",
        "* `silhouette_scores[4]` is the same for $k=4$\n",
        "* etc.\n"
      ]
    },
    {
      "cell_type": "code",
      "execution_count": null,
      "metadata": {
        "id": "glLBYPV0Aovo"
      },
      "outputs": [],
      "source": [
        "# Question\n",
        "# Make sure to use the arguments `n_init = 10` and `random_state = 42` for clustering\n",
        "\n",
        "# your code here\n",
        "\n",
        "print(silhouette_scores)"
      ]
    },
    {
      "cell_type": "markdown",
      "metadata": {
        "id": "1Jzc4a_7CGC_"
      },
      "source": [
        "## Question 19 (2 points)"
      ]
    },
    {
      "cell_type": "markdown",
      "metadata": {
        "id": "9_hp-6S_Bt-N"
      },
      "source": [
        "Run the following code, which should generate a figure showing the Silhouette coefficient ($y$-axis) as a function of $k$ ($x$-axis):"
      ]
    },
    {
      "cell_type": "code",
      "execution_count": null,
      "metadata": {
        "id": "jBz0UktxBtDa"
      },
      "outputs": [],
      "source": [
        "import seaborn as sns\n",
        "import matplotlib.pyplot as plt\n",
        "\n",
        "sns.lineplot(x = list(silhouette_scores.keys()), y = list(silhouette_scores.values()))\n",
        "plt.xlabel('Number of clusters')\n",
        "plt.ylabel('Silhouette score')\n",
        "plt.show()"
      ]
    },
    {
      "cell_type": "markdown",
      "metadata": {
        "id": "P6WctwrNCHrt"
      },
      "source": [
        "**Question:** What value of $k$ would you choose based on Silhouette analysis?  Briefly justify.\n",
        "\n",
        "**A19: put your answer here (maximum 1 sentence)**\n",
        "\n",
        "\n"
      ]
    },
    {
      "cell_type": "markdown",
      "metadata": {
        "id": "gY7e7s9cCeEJ"
      },
      "source": [
        "## Question 20 (2 points)\n",
        "\n",
        "\n",
        "Perform $k$-means clustering using the value of $k$ from Q19. Save the result as `kmeans_q20`, and make a vector `y_kmeans_q20` of the category labels predicted by this clustering."
      ]
    },
    {
      "cell_type": "code",
      "execution_count": null,
      "metadata": {
        "id": "ZokLJm6lzyJX"
      },
      "outputs": [],
      "source": [
        "# Question\n",
        "# Make sure to use the arguments `n_init = 10` and `random_state = 42` for clustering\n",
        "\n",
        "# your code here\n",
        "\n",
        "print(y_kmeans_q20)"
      ]
    },
    {
      "cell_type": "markdown",
      "metadata": {
        "id": "W08B4dOTJvxV"
      },
      "source": [
        "## Question 21 (3 points)\n",
        "Make a 1x2 array of F1/F2 plots like in Q17, but now using `kmeans_q20` and  `y_kmeans_q20`."
      ]
    },
    {
      "cell_type": "code",
      "execution_count": null,
      "metadata": {
        "id": "itaYhhJsz38x"
      },
      "outputs": [],
      "source": [
        "# Question\n",
        "\n",
        "# your code here\n",
        "\n",
        "plt.show()"
      ]
    },
    {
      "cell_type": "markdown",
      "metadata": {
        "id": "DqjTlEc3CTRx"
      },
      "source": [
        "# Section 9\n",
        "\n",
        "We now try GMM clustering.\n",
        "\n"
      ]
    },
    {
      "cell_type": "markdown",
      "metadata": {
        "id": "7pVvof-jC2ul"
      },
      "source": [
        "## Question 22 (2 points)\n",
        "\n",
        "We will do GMM clustering for the same range of $k$ as above (3--15), and choose the one with the best BIC.\n",
        "\n",
        "First: write a function `gmm_k_bic` that takes as inputs:\n",
        "\n",
        "* `X`: a feature matrix where each column is one feature (like our `X`)\n",
        "* `k`: the number of components of the GMM\n",
        "\n",
        "and does the following:\n",
        "\n",
        "* Fit a GMM with **tied covariance matrix** to `X`\n",
        "* Return the BIC value for this GMM"
      ]
    },
    {
      "cell_type": "code",
      "execution_count": null,
      "metadata": {
        "id": "ZZpTy8-mDnhm"
      },
      "outputs": [],
      "source": [
        "# Question\n",
        "# Make sure to use the arguments `n_init = 10` and `random_state = 42` for clustering\n",
        "\n",
        "# your code here"
      ]
    },
    {
      "cell_type": "markdown",
      "metadata": {
        "id": "Cq2enjpSDons"
      },
      "source": [
        "## Question 23 (2 points)\n",
        "\n",
        "Write code resulting in a dictionary `gmm_scores` such that:\n",
        "\n",
        "* `gmm_scores[3]` is the BIC value for the GMM fit to `X` with $k = 3$\n",
        "* etc.\n"
      ]
    },
    {
      "cell_type": "code",
      "execution_count": null,
      "metadata": {
        "id": "1-q6TPhtK4i-"
      },
      "outputs": [],
      "source": [
        "# Question\n",
        "\n",
        "# your code here\n",
        "\n",
        "print(gmm_scores)"
      ]
    },
    {
      "cell_type": "markdown",
      "metadata": {
        "id": "_cwU3bkOD5p3"
      },
      "source": [
        "## Question 24 (2 points)\n",
        "\n",
        "Run the following code, which should generate a figure showing the BIC ($y$-axis) as a function of $k$ ($x$-axis):"
      ]
    },
    {
      "cell_type": "code",
      "execution_count": null,
      "metadata": {
        "id": "TPFcSmZ2D5p4"
      },
      "outputs": [],
      "source": [
        "import seaborn as sns\n",
        "import matplotlib.pyplot as plt\n",
        "\n",
        "sns.lineplot(x = list(gmm_scores.keys()), y = list(gmm_scores.values()))\n",
        "plt.xlabel('Number of clusters')\n",
        "plt.ylabel('BIC')\n",
        "plt.show()"
      ]
    },
    {
      "cell_type": "markdown",
      "metadata": {
        "id": "ZyRIBgNCEA_k"
      },
      "source": [
        "**Question:** What value of $k$ would you choose based on this plot?  Briefly justify.  \n",
        "\n",
        "*Hint*: make sure you are considering the right direction for BIC, which is sometimes defined so higher = better and sometimes so lower = better.\n",
        "\n",
        "**A24: put your answer here (maximum 1 sentence)**\n",
        "\n"
      ]
    },
    {
      "cell_type": "markdown",
      "metadata": {
        "id": "1ANyR9ufEP2-"
      },
      "source": [
        "## Question 25 (2 points)\n",
        "\n",
        "* Fit a GMM with **tied covariance matrix** using the value of $k$ from Q24 and save the result as `gmm_q25`.\n",
        "* Make a vector `y_gmm_q25` of the category labels predicted by this clustering."
      ]
    },
    {
      "cell_type": "code",
      "execution_count": null,
      "metadata": {
        "id": "pT48UYLpL2pD"
      },
      "outputs": [],
      "source": [
        "# Question\n",
        "# Make sure to use the arguments `n_init = 10` and `random_state = 42` for clustering\n",
        "\n",
        "# your answer here\n",
        "\n",
        "print(y_gmm_q25)"
      ]
    },
    {
      "cell_type": "markdown",
      "metadata": {
        "id": "pAK0EOF0Lr1j"
      },
      "source": [
        "## Question 26 (2 points + 4 points extra credit)\n",
        "Make a 1x2 array of F1/F2 plots, such that:\n",
        "\n",
        "* The left plot shows each point colored by its value of `y_gmm_q25` (the predicted category label), like Q17 and Q21 (2 points)\n",
        "* The right plot shows one 95% confidence ellipse for each category. (4 points extra credit)\n",
        "\n",
        "While there is code you can adapt for this in the Classification CoLab, it may contain a bug you have to figure out how to fix.  "
      ]
    },
    {
      "cell_type": "code",
      "execution_count": null,
      "metadata": {
        "id": "WkiL22AbMahc"
      },
      "outputs": [],
      "source": [
        "# Question\n",
        "\n",
        "# your code here\n",
        "\n",
        "plt.show()"
      ]
    },
    {
      "cell_type": "markdown",
      "metadata": {
        "id": "z639-PdeGuxr"
      },
      "source": [
        "## Question 27 (3 points)\n",
        "\n",
        "\n",
        "A common situation in unsupervised learning is different methods giving different results, and the analyst has to decide which is most plausible using domain knowledge. There is no quantitative criterion for this because $y$ is not known.\n",
        "\n",
        "Compare the clusterings chosen using $k$-means and GMM clustering:\n",
        "\n",
        "* The $k$ values from Q19 and Q24\n",
        "* The plots in Q21 and Q26\n",
        "\n",
        "Which clustering is more plausible? Justify your answer.\n",
        "\n",
        "**A27: Your answer here (2-3 sentences)**\n",
        "\n"
      ]
    },
    {
      "cell_type": "markdown",
      "metadata": {
        "id": "FL7VRHX3CE6_"
      },
      "source": [
        "# To Submit\n",
        "To submit:\n",
        "* Name this notebook `YOUR_STUDENT_ID_Assignment_6.ipynb` and download it.\n",
        "* Convert this `.ipynb` file to a `.pdf` (e.g., using the following instructions).  \n",
        "* Upload the PDF to the Gradescope assignment \"Assignment 6\".\n",
        "   * **<font color='red'>Make sure to match your answers to page numbers when submitting the PDF on Gradescope. Failure to do so will result in UP TO 10 POINTS BEING DEDUCTED.</font>**  \n",
        "* Submit the `.ipynb` file on myCourses under Assignment 6.\n",
        "\n",
        "(Note: `Print > Save as PDF` **will not work** because it will not display your figures correctly.)\n",
        "\n",
        "You can convert the notebook to a PDF using the following instructions."
      ]
    },
    {
      "cell_type": "markdown",
      "metadata": {
        "id": "A_PZj4fgA70w"
      },
      "source": [
        "# Converting this notebook to a PDF"
      ]
    },
    {
      "cell_type": "markdown",
      "metadata": {
        "id": "CEUQt-EbA_mv"
      },
      "source": [
        "1. Make sure you have renamed the notebook, e.g. `000000000_Assignment_6.ipynb` where `000000000` is your student ID.\n",
        "2. Make sure to save the notebook (`ctrl/cmd + s`)."
      ]
    },
    {
      "cell_type": "markdown",
      "metadata": {
        "id": "f7HeqYFKBKL0"
      },
      "source": [
        "Make sure Google Drive is mounted (it likely already is from the first question)."
      ]
    },
    {
      "cell_type": "code",
      "execution_count": null,
      "metadata": {
        "id": "UgOBFJCwBPG3"
      },
      "outputs": [],
      "source": [
        "from google.colab import drive\n",
        "drive.mount('/content/drive/')\n",
        "!ls \"/content/drive/My Drive/Colab Notebooks/\""
      ]
    },
    {
      "cell_type": "markdown",
      "metadata": {
        "id": "wDsj2M8hBOce"
      },
      "source": [
        "3. Install packages for converting .ipynb to .pdf"
      ]
    },
    {
      "cell_type": "code",
      "execution_count": null,
      "metadata": {
        "id": "0v79GdHtMy8i"
      },
      "outputs": [],
      "source": [
        "!apt-get -q install texlive-xetex texlive-fonts-recommended texlive-plain-generic\n",
        "!apt-get install -y pandoc"
      ]
    },
    {
      "cell_type": "markdown",
      "metadata": {
        "id": "_X7rUukBCKlu"
      },
      "source": [
        "4. Convert to PDF (replace `000000000` with your student ID)"
      ]
    },
    {
      "cell_type": "code",
      "execution_count": null,
      "metadata": {
        "id": "SwMbBqmaCH8M"
      },
      "outputs": [],
      "source": [
        "%env STUDENT_ID=000000000\n",
        "!jupyter nbconvert --to pdf \"/content/drive/My Drive/Colab Notebooks/${STUDENT_ID}_Assignment_6.ipynb\""
      ]
    },
    {
      "cell_type": "markdown",
      "metadata": {
        "id": "h4fwKz3SCSGa"
      },
      "source": [
        "5. Download the resulting PDF file. If you are using Chrome, you can do so by running the following code. On other browsers, you can download the PDF using the file mananger on the left of the screen (Navigate to the file > Right Click > Download)."
      ]
    },
    {
      "cell_type": "code",
      "execution_count": null,
      "metadata": {
        "colab": {
          "base_uri": "https://localhost:8080/",
          "height": 17
        },
        "id": "O7uiHC2uCg9-",
        "outputId": "82a5d5ee-f337-401d-9969-65ecdfa73164"
      },
      "outputs": [
        {
          "data": {
            "application/javascript": "\n    async function download(id, filename, size) {\n      if (!google.colab.kernel.accessAllowed) {\n        return;\n      }\n      const div = document.createElement('div');\n      const label = document.createElement('label');\n      label.textContent = `Downloading \"${filename}\": `;\n      div.appendChild(label);\n      const progress = document.createElement('progress');\n      progress.max = size;\n      div.appendChild(progress);\n      document.body.appendChild(div);\n\n      const buffers = [];\n      let downloaded = 0;\n\n      const channel = await google.colab.kernel.comms.open(id);\n      // Send a message to notify the kernel that we're ready.\n      channel.send({})\n\n      for await (const message of channel.messages) {\n        // Send a message to notify the kernel that we're ready.\n        channel.send({})\n        if (message.buffers) {\n          for (const buffer of message.buffers) {\n            buffers.push(buffer);\n            downloaded += buffer.byteLength;\n            progress.value = downloaded;\n          }\n        }\n      }\n      const blob = new Blob(buffers, {type: 'application/binary'});\n      const a = document.createElement('a');\n      a.href = window.URL.createObjectURL(blob);\n      a.download = filename;\n      div.appendChild(a);\n      a.click();\n      div.remove();\n    }\n  ",
            "text/plain": [
              "<IPython.core.display.Javascript object>"
            ]
          },
          "metadata": {},
          "output_type": "display_data"
        },
        {
          "data": {
            "application/javascript": "download(\"download_ab8372dc-942e-4c6a-a633-b66c10aca626\", \"NL2DS_Winter_2024_Assignment_5.pdf\", 80086)",
            "text/plain": [
              "<IPython.core.display.Javascript object>"
            ]
          },
          "metadata": {},
          "output_type": "display_data"
        }
      ],
      "source": [
        "import os\n",
        "from google.colab import files\n",
        "files.download(f\"/content/drive/My Drive/Colab Notebooks/{os.environ['STUDENT_ID']}_Assignment_6.pdf\")"
      ]
    },
    {
      "cell_type": "markdown",
      "metadata": {
        "id": "EvvxRqqTDAFT"
      },
      "source": [
        "6. Verify that your PDF correctly displays your figures and responses."
      ]
    },
    {
      "cell_type": "markdown",
      "metadata": {
        "id": "ZyJeX56pAXUD"
      },
      "source": [
        "7. **<font color='red'>Remember to match your answers to page numbers when submitting the PDF on Gradescope!</font>**"
      ]
    }
  ],
  "metadata": {
    "colab": {
      "include_colab_link": true,
      "provenance": []
    },
    "kernelspec": {
      "display_name": ".venv",
      "language": "python",
      "name": "python3"
    },
    "language_info": {
      "codemirror_mode": {
        "name": "ipython",
        "version": 3
      },
      "file_extension": ".py",
      "mimetype": "text/x-python",
      "name": "python",
      "nbconvert_exporter": "python",
      "pygments_lexer": "ipython3",
      "version": "3.10.11"
    }
  },
  "nbformat": 4,
  "nbformat_minor": 0
}
